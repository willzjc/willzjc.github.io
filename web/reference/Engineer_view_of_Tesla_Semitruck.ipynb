{
 "cells": [
  {
   "cell_type": "markdown",
   "metadata": {},
   "source": [
    "# Information from Real Engeering\n",
    "## The Truth About The Tesla Semi-Truck\n",
    "https://www.youtube.com/watch?v=oJ8Cf0vWmxE<br>\n",
    "The real economics of the Tesla Semi Truck"
   ]
  },
  {
   "cell_type": "code",
   "execution_count": null,
   "metadata": {},
   "outputs": [],
   "source": [
    "import os                                           # Fundamental file management libraries\n",
    "import numpy as np                                  # Base Array library used by Pandas\n",
    "import pandas as pd                                 # Pandas Matrix library\n",
    "import scipy as sp                                  # Required as the baseline data science module\n",
    "try:\n",
    "    from StringIO import StringIO                   # Formulating a string as a filestream\n",
    "except ImportError:\n",
    "    from io import StringIO\n",
    "import plotly.tools as tls                          # Auxiliary Tools\n",
    "from plotly.offline import download_plotlyjs, init_notebook_mode, iplot\n",
    "                                                    # plotly for offline use (i.e. no service fee)\n",
    "from plotly.graph_objs import *                     # Different chart types\n",
    "init_notebook_mode()                                # Notebook \n",
    "import cufflinks as cf                              # Bridge from DataFrames to Plotly\n",
    "cf.go_offline()                                     # Required to use plotly offline (no account required).\n",
    "from sklearn import preprocessing                   # For natrix normalization\n",
    "from IPython.display import display, HTML           # Formatting for Dataframes"
   ]
  },
  {
   "cell_type": "code",
   "execution_count": null,
   "metadata": {},
   "outputs": [],
   "source": [
    "stats=pd.DataFrame(columns=['fuel','density'])\n",
    "data={'Litihum-ion': 250 ,\n",
    "       'Petrol': 12889, 'Hydrogen' : 39443, 'Plutuonium (Isotope 238)': 620000\n",
    "       }\n",
    "stats['fuel']=data.keys()\n",
    "stats['density']=data.values()\n",
    "stats.iplot(x='fuel',kind='bar',title='<b>Specific Energy</b><br>(Wh/kg)')"
   ]
  },
  {
   "cell_type": "markdown",
   "metadata": {},
   "source": [
    "## Calculations\n",
    "Regulations stpilates that maximum weight of a truck is 36 Tonnes (36,000 kg)<br>\n",
    "A truck without batterys weights approx 7 tonnes (i.e. 29 tonnes remaining for battery + payload)\n",
    "![image.png](attachment:image.png)\n",
    "1. A diesel truck is capable if 20 tonnes of payload per 1500km on a full tank<br>\n",
    "2. Tesla will have\n",
    "   i. 300 mile (482km)\n",
    "   ii. 500 mile (804km)\n",
    "3. The biggest mystory of what every truck industry company is waiting for is - what is the weight of an empty Tesla truck (i.e. how much payload space is usable given the 36T constraint?)\n",
    "4. Elon is refusing to reveal this stat - essentailly likely he is waiting for further Lition-Ion energey density enhacements.\n",
    "<br>\n",
    "Backwards solving we obtain\n",
    "\n",
    "display(\\frac{n!}{k!(n-k)!} = \\binom{n}{k})\n"
   ]
  },
  {
   "cell_type": "markdown",
   "metadata": {},
   "source": [
    "### Mathematics involved:\n",
    "![image.png](attachment:image.png)\n",
    "4 Components\n",
    "1. Drag\n",
    "2. Rolling friction\n",
    "3. Gravity (zero for non-uphill roads) - range was calculated on flat roads. i.e. 300 miles for a flat road\n",
    "4. Inertia\n",
    "\n",
    "#### Drag Coefficient\n",
    "Incredible, truck is slipperier than a Bugatti\n",
    "$$C_d = 0.36$$\n",
    "\n",
    "Mean Rolling Resistance is\n",
    "$$C_{rr} = 0.0063$$\n",
    "\n",
    "Average Speed (including City Driving)\n",
    "$$v = 22.352 ms^{-1}$$\n",
    "$$a = 0.112 ms^{-2}$$\n",
    "\n",
    "Frontal Area\n",
    "$$A = 7.2 m^2$$\n",
    "\n",
    "A model to calculate variables below:\n",
    "https://battery.real.engineering/\n",
    "\n",
    "300 mile variant = 4.7 Tonne battery (approx $100k)<br>\n",
    "500 mile variant = 7.9 Tonne battery (approx 180k)"
   ]
  }
 ],
 "metadata": {
  "celltoolbar": "Attachments",
  "kernelspec": {
   "display_name": "Python 2",
   "language": "python",
   "name": "python2"
  },
  "language_info": {
   "codemirror_mode": {
    "name": "ipython",
    "version": 2
   },
   "file_extension": ".py",
   "mimetype": "text/x-python",
   "name": "python",
   "nbconvert_exporter": "python",
   "pygments_lexer": "ipython2",
   "version": "2.7.14"
  }
 },
 "nbformat": 4,
 "nbformat_minor": 2
}
