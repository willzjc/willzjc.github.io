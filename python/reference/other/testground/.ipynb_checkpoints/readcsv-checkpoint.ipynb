{
 "cells": [
  {
   "cell_type": "code",
   "execution_count": 1,
   "metadata": {},
   "outputs": [
    {
     "name": "stdout",
     "output_type": "stream",
     "text": [
      "           Date  Items Sold Average Selling Price  Total Sales\n",
      "0    2017-02-13          19             48.03 USD   912.51 USD\n",
      "1    2017-02-14          39             47.73 USD  1861.46 USD\n",
      "2    2017-02-15          16             50.60 USD   809.54 USD\n",
      "3    2017-02-16          19             41.72 USD   792.77 USD\n",
      "4    2017-02-17          14             38.17 USD   534.32 USD\n",
      "5    2017-02-18          27             36.64 USD   989.41 USD\n",
      "6    2017-02-19          15             41.49 USD   622.29 USD\n",
      "7    2017-02-20          22             42.33 USD   931.32 USD\n",
      "8    2017-02-21          32             38.83 USD  1242.43 USD\n",
      "9    2017-02-22          22             34.72 USD   763.78 USD\n",
      "10   2017-02-23          12             43.09 USD   517.10 USD\n",
      "11   2017-02-24          11             56.90 USD   625.90 USD\n",
      "12   2017-02-25          22             38.07 USD   837.43 USD\n",
      "13   2017-02-26          18             42.64 USD   767.52 USD\n",
      "14   2017-02-27          24             35.93 USD   862.26 USD\n",
      "15   2017-02-28          14             36.05 USD   504.67 USD\n",
      "16   2017-03-01          15             50.79 USD   761.85 USD\n",
      "17   2017-03-02           6             45.83 USD   274.97 USD\n",
      "18   2017-03-03          10             35.54 USD   355.39 USD\n",
      "19   2017-03-04           9             36.23 USD   326.06 USD\n",
      "20   2017-03-05          11             21.81 USD   239.92 USD\n",
      "21   2017-03-06          24             44.11 USD  1058.58 USD\n",
      "22   2017-03-07          15             38.53 USD   577.93 USD\n",
      "23   2017-03-08          15             33.72 USD   505.80 USD\n",
      "24   2017-03-09          16             26.18 USD   418.87 USD\n",
      "25   2017-03-10          15             28.69 USD   430.37 USD\n",
      "26   2017-03-11           7             33.48 USD   234.34 USD\n",
      "27   2017-03-12          22             27.81 USD   611.88 USD\n",
      "28   2017-03-13          17             32.96 USD   560.40 USD\n",
      "29   2017-03-14          12             31.08 USD   372.95 USD\n",
      "..          ...         ...                   ...          ...\n",
      "336  2018-01-15          12             43.29 USD   519.51 USD\n",
      "337  2018-01-16           7             35.26 USD   246.81 USD\n",
      "338  2018-01-17          10             36.76 USD   367.55 USD\n",
      "339  2018-01-18          11             35.79 USD   393.74 USD\n",
      "340  2018-01-19          12             25.64 USD   307.63 USD\n",
      "341  2018-01-20           9             27.14 USD   244.22 USD\n",
      "342  2018-01-21           5             40.56 USD   202.82 USD\n",
      "343  2018-01-22           4             35.17 USD   140.66 USD\n",
      "344  2018-01-23          24             31.80 USD   763.25 USD\n",
      "345  2018-01-24           5             26.52 USD   132.58 USD\n",
      "346  2018-01-25           8             20.74 USD   165.94 USD\n",
      "347  2018-01-26          15             21.63 USD   324.49 USD\n",
      "348  2018-01-27          10             20.13 USD   201.32 USD\n",
      "349  2018-01-28          10             31.33 USD   313.26 USD\n",
      "350  2018-01-29          17             26.24 USD   446.01 USD\n",
      "351  2018-01-30          10             31.82 USD   318.23 USD\n",
      "352  2018-01-31          25             45.76 USD  1143.91 USD\n",
      "353  2018-02-01          16             23.38 USD   374.00 USD\n",
      "354  2018-02-02          20             33.11 USD   662.25 USD\n",
      "355  2018-02-03          12             35.77 USD   429.19 USD\n",
      "356  2018-02-04           9             30.36 USD   273.23 USD\n",
      "357  2018-02-05           7             31.35 USD   219.46 USD\n",
      "358  2018-02-06          12             26.68 USD   320.19 USD\n",
      "359  2018-02-07          11             18.62 USD   204.86 USD\n",
      "360  2018-02-08          14             29.00 USD   406.04 USD\n",
      "361  2018-02-09          14             16.86 USD   235.97 USD\n",
      "362  2018-02-10           4             32.52 USD   130.09 USD\n",
      "363  2018-02-11          17             23.89 USD   406.17 USD\n",
      "364  2018-02-12          14             35.29 USD   494.10 USD\n",
      "365  2018-02-13          21             21.65 USD   454.61 USD\n",
      "\n",
      "[366 rows x 4 columns]\n"
     ]
    },
    {
     "data": {
      "text/html": [
       "<iframe id=\"igraph\" scrolling=\"no\" style=\"border:none;\" seamless=\"seamless\" src=\"https://plot.ly/~willzjc/6.embed\" height=\"525px\" width=\"100%\"></iframe>"
      ],
      "text/plain": [
       "<plotly.tools.PlotlyDisplay object>"
      ]
     },
     "execution_count": 1,
     "metadata": {},
     "output_type": "execute_result"
    }
   ],
   "source": [
    "import pandas as pd\n",
    "import numpy as np\n",
    "\n",
    "import plotly\n",
    "import plotly.plotly as py\n",
    "import plotly.graph_objs as go\n",
    "import plotly.figure_factory as FF\n",
    "\n",
    "df=pd.read_csv('data.csv')\n",
    "\n",
    "print df\n",
    "sample_data_table = FF.create_table(df.head())\n",
    "py.iplot(sample_data_table, filename='sample-data-table')\n",
    "\n",
    "trace1 = go.Scatter(\n",
    "                    x=df[u\"Date\"], y=df[u'Total Sales'], # Data\n",
    "                    mode='lines', name=u'Total Sales' # Additional options\n",
    "                   )\n",
    "trace2 = go.Scatter(x=df[u'Date'], y=df[u'Average Selling Price'], mode='lines', name='avg' )\n",
    "trace3 = go.Scatter(x=df[u'Date'], y=df[u'Items Sold'], mode='lines', name='sold')\n",
    "\n",
    "layout = go.Layout(title='Plot from csv data',\n",
    "                   plot_bgcolor='rgb(230, 230,230)')\n",
    "\n",
    "fig = go.Figure(data=[trace1, trace2, trace3], layout=layout)\n",
    "\n",
    "# Plot data in the notebook\n",
    "py.iplot(fig, filename='simple-plot-from-csv')"
   ]
  },
  {
   "cell_type": "code",
   "execution_count": null,
   "metadata": {},
   "outputs": [],
   "source": []
  }
 ],
 "metadata": {
  "kernelspec": {
   "display_name": "Python 2",
   "language": "python",
   "name": "python2"
  },
  "language_info": {
   "codemirror_mode": {
    "name": "ipython",
    "version": 2
   },
   "file_extension": ".py",
   "mimetype": "text/x-python",
   "name": "python",
   "nbconvert_exporter": "python",
   "pygments_lexer": "ipython2",
   "version": "2.7.14"
  }
 },
 "nbformat": 4,
 "nbformat_minor": 1
}
