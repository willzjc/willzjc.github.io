{
 "cells": [
  {
   "cell_type": "code",
   "execution_count": 1,
   "metadata": {
    "collapsed": true
   },
   "outputs": [
    {
     "name": "stdout",
     "output_type": "stream",
     "text": [
      "0.12.1\n"
     ]
    }
   ],
   "source": [
    "import plotly.plotly as py\n",
    "import cufflinks as cf\n",
    "import pandas as pd\n",
    "import numpy as np\n",
    "print cf.__version__"
   ]
  },
  {
   "cell_type": "code",
   "execution_count": 17,
   "metadata": {
    "collapsed": false
   },
   "outputs": [
    {
     "name": "stdout",
     "output_type": "stream",
     "text": [
      "/Users/zijianchen/PycharmProjects/github/webgit/willzjc.github.io/python/historical_price/ref/\n                 date    CPI\ndate                        \n2014-10-29 2014-10-29  107.5\n2015-01-28 2015-01-28  108.0\n2015-04-30 2015-04-30  108.4\n2015-07-30 2015-07-30  107.6\n2015-10-30 2015-10-30  108.2\n2016-01-29 2016-01-29  108.6\n2016-04-30 2016-04-30  109.4\n2016-07-31 2016-07-31  110.0\n2016-10-30 2016-10-30  110.5\n2017-01-29 2017-01-29  110.7\n2017-05-01 2017-05-01  111.4\n2017-07-31 2017-07-31  112.1\n"
     ]
    }
   ],
   "source": [
    "import os\n",
    "import pandas as pd\n",
    "import numpy as np\n",
    "import datetime\n",
    "import plotly\n",
    "import plotly.plotly as py\n",
    "import plotly.graph_objs as go\n",
    "import plotly.figure_factory as FF\n",
    "import sys\n",
    "\n",
    "import matplotlib.pyplot as plt\n",
    "\n",
    "from scipy.interpolate import spline\n",
    "\n",
    "# import os\n",
    "# os.chdir('/Users/zijianchen/PycharmProjects/github/webgit/willzjc.github.io/python/historical_price')\n",
    "\n",
    "if sys.version_info[0] < 3:\n",
    "    from StringIO import StringIO\n",
    "else:\n",
    "    from io import StringIO\n",
    "\n",
    "def drawdf(df,selfdraw=True):\n",
    "\n",
    "\n",
    "    #Normalize DF First\n",
    "\n",
    "    df['combined']=0\n",
    "    for eachitem in df.columns:\n",
    "        if not 'date' in eachitem:\n",
    "            df[eachitem] = (df[eachitem] - df[eachitem].mean()) / (df[eachitem].std())\n",
    "            df['combined']=df['combined']+df[eachitem]\n",
    "\n",
    "    # Get Total Rating based on average of\n",
    "    df['avg']=df[[c for c in df.columns[1:]]].mean(axis=1)\n",
    "\n",
    "    # df=df.replace('\\sUSD','',regex=True).apply(pd.to_numeric, errors='ignore')\n",
    "    # df['dateindex']=pd.to_datetime(df['date'])\n",
    "    df['date']=pd.to_datetime(df['date'])\n",
    "    df=df.set_index(pd.DatetimeIndex(df['date']))\n",
    "\n",
    "\n",
    "    cpi=pd.read_csv('ref/AUCPI',delimiter='\\t')\n",
    "    cpi['date']=pd.to_datetime(cpi['date'])\n",
    "\n",
    "    # Timeshift\n",
    "    timeshift=31+92\n",
    "    cpi['date'] = cpi['date'] - datetime.timedelta(days=(timeshift))\n",
    "\n",
    "    cpi=cpi.set_index(pd.DatetimeIndex(cpi['date']))\n",
    "\n",
    "    print cpi\n",
    "\n",
    "    # Normalize CPI\n",
    "    # index = pd.date_range(cpi['date'].max(),cpi['date'].min())\n",
    "    # index = pd.date_range(cpi['date'])\n",
    "    # values = pd.Series(cpi.values, index=index)\n",
    "\n",
    "    # Read above link about the different Offset Aliases, S=Seconds\n",
    "    # resampled_values = values.resample('2.5D')\n",
    "    # cpi.diff()  # compute the difference between each point!\n",
    "\n",
    "\n",
    "    cpi['CPI'] = (cpi['CPI'] - cpi['CPI'].mean()) / (cpi['CPI'].std())\n",
    "\n",
    "\n",
    "    # xnew = np.linspace(df['combined'].min(), df['combined'].max(), 300)  # 300 represents number of points to make between T.min and T.max\n",
    "\n",
    "    # power_smooth = spline(df['date'], df['combined'], xnew)\n",
    "\n",
    "    # plt.plot(xnew, power_smooth)\n",
    "    # plt.show()\n",
    "\n",
    "    ##### Concat both tables #####\n",
    "    df=pd.concat([cpi,df],axis=1, join='inner')\n",
    "    # print type(df),type(cpi)\n",
    "\n",
    "    # ##### Massaging Data #####\n",
    "    # ### resample\n",
    "    # df = df.resample('M').mean()\n",
    "    # df = df.resample('M')\n",
    "    # df = df.resample('D')\n",
    "    # # ### interpolate\n",
    "    # df= df.interpolate(method='cubic')\n",
    "\n",
    "    # df.plot(kind='bar')\n",
    "    # df['bad_rate'].plot(secondary_y=True)\n",
    "\n",
    "    #### PLOTTING SECTION #####\n",
    "    # cpi=cpi.interpolate(method='cubic')\n",
    "    # tsint.plot()\n",
    "    # tsint.plot(y='combined', use_index=True)\n",
    "    # tsint.plot()\n",
    "    # ax = cpi.plot(y='CPI', use_index=True, kind='bar')\n",
    "    # tsint.plot.line(ax=ax,y='avg',use_index=True,secondary_y=True,kind='line')\n",
    "    # cpi_s.plot(ax=ax)\n",
    "    # result.plot(y='avg',kind='bar')\n",
    "    # result.plot(y='CPI',secondary_y=True)\n",
    "    # result.plot(y=['avg','CPI'])\n",
    "    f, axarr = plt.subplots(2)\n",
    "\n",
    "\n",
    "    df['positive']=df['avg'] > 0\n",
    "    \n",
    "    if selfdraw:\n",
    "        df.CPI.plot(legend=True, ax=axarr[0])\n",
    "        df.avg.plot(ax=axarr[1], kind='bar', legend=True,color=df.positive.map({True: 'g', False: 'r'}))\n",
    "        plt.show()\n",
    "    \n",
    "    return df\n",
    "\n",
    "def readfiles():\n",
    "\n",
    "    bol_recursive=False\n",
    "    df=pd.DataFrame(columns=['date'])\n",
    "\n",
    "    basepath=os.getcwd().replace('\\\\','/') + '/' + 'ref' + '/'\n",
    "    print basepath\n",
    "\n",
    "    files=[]\n",
    "\n",
    "    for str_dirname, lst_subdirs, lst_files in os.walk(basepath):\n",
    "        if not bol_recursive:\n",
    "            while len(lst_subdirs) > 0:\n",
    "                lst_subdirs.pop()\n",
    "                for file in lst_files:\n",
    "                    if '.csv' in file:\n",
    "                        with open(basepath+file,'rb') as f:\n",
    "                            files.append(f.read())\n",
    "                            f.close()\n",
    "\n",
    "    for f in files:\n",
    "\n",
    "        headers = {}\n",
    "        buffer=[]\n",
    "        headermode = True\n",
    "        for line in f.split('\\n'):\n",
    "            if headermode and 'Date,' in line:\n",
    "                headermode=False\n",
    "            elements=line.strip().split(',')\n",
    "            if len(elements) < 3 and len(elements) > 1:         # filter out header info\n",
    "                headers[elements[0].strip()]=elements[1].strip()\n",
    "            else:\n",
    "                if len(elements)>1 and not headermode:\n",
    "                    buffer.append(line)\n",
    "\n",
    "        # Read file stream CSV\n",
    "        currentdf = pd.read_csv(StringIO('\\n'.join(buffer)))\n",
    "\n",
    "        # Replace Strings\n",
    "        currentdf = currentdf.replace('\\sUSD', '', regex=True).apply(pd.to_numeric, errors='ignore')\n",
    "        try:\n",
    "            df['date'] = currentdf['Date']\n",
    "        except:\n",
    "            # TODO\n",
    "            print 'Deal with this exception another time'\n",
    "\n",
    "        df[headers['Keywords']] = currentdf['Average Selling Price']\n",
    "\n",
    "    # df['combined']=0\n",
    "\n",
    "    return df\n",
    "\n",
    "def main():\n",
    "    df=readfiles()\n",
    "    drawdf(df)\n",
    "\n",
    "if __name__ == \"__main__\":\n",
    "    main()"
   ]
  },
  {
   "cell_type": "code",
   "execution_count": 15,
   "metadata": {
    "collapsed": false
   },
   "outputs": [
    {
     "name": "stdout",
     "output_type": "stream",
     "text": [
      "/Users/zijianchen/PycharmProjects/github/webgit/willzjc.github.io/python/historical_price/ref/\n"
     ]
    },
    {
     "name": "stdout",
     "output_type": "stream",
     "text": [
      "                 date    CPI\ndate                        \n2014-10-29 2014-10-29  107.5\n2015-01-28 2015-01-28  108.0\n2015-04-30 2015-04-30  108.4\n2015-07-30 2015-07-30  107.6\n2015-10-30 2015-10-30  108.2\n2016-01-29 2016-01-29  108.6\n2016-04-30 2016-04-30  109.4\n2016-07-31 2016-07-31  110.0\n2016-10-30 2016-10-30  110.5\n2017-01-29 2017-01-29  110.7\n2017-05-01 2017-05-01  111.4\n2017-07-31 2017-07-31  112.1\n"
     ]
    },
    {
     "name": "stdout",
     "output_type": "stream",
     "text": [
      "Aw, snap! We don't have an account for ''. Want to try again? You can authenticate with your email address or username. Sign in is not case sensitive.\n\nDon't have an account? plot.ly\n\nQuestions? support@plot.ly\n"
     ]
    },
    {
     "ename": "PlotlyError",
     "evalue": "Because you didn't supply a 'file_id' in the call, we're assuming you're trying to snag a figure from a url. You supplied the url, '', we expected it to start with 'https://plot.ly'.\nRun help on this function for more information.",
     "traceback": [
      "\u001b[0;31m\u001b[0m",
      "\u001b[0;31mPlotlyError\u001b[0mTraceback (most recent call last)",
      "\u001b[0;32m<ipython-input-15-ab4d5f723d45>\u001b[0m in \u001b[0;36m<module>\u001b[0;34m()\u001b[0m\n\u001b[1;32m      8\u001b[0m     \u001b[0;34m'y'\u001b[0m\u001b[0;34m:\u001b[0m \u001b[0mdf\u001b[0m\u001b[0;34m[\u001b[0m\u001b[0mcol\u001b[0m\u001b[0;34m]\u001b[0m\u001b[0;34m,\u001b[0m\u001b[0;34m\u001b[0m\u001b[0m\n\u001b[1;32m      9\u001b[0m     \u001b[0;34m'name'\u001b[0m\u001b[0;34m:\u001b[0m \u001b[0mcol\u001b[0m\u001b[0;34m\u001b[0m\u001b[0m\n\u001b[0;32m---> 10\u001b[0;31m }  for col in df.columns], filename='cufflinks/simple-line')\n\u001b[0m",
      "\u001b[0;32m/Library/Frameworks/Python.framework/Versions/2.7/lib/python2.7/site-packages/plotly/plotly/plotly.pyc\u001b[0m in \u001b[0;36miplot\u001b[0;34m(figure_or_data, **plot_options)\u001b[0m\n\u001b[1;32m    162\u001b[0m         \u001b[0membed_options\u001b[0m\u001b[0;34m[\u001b[0m\u001b[0;34m'height'\u001b[0m\u001b[0;34m]\u001b[0m \u001b[0;34m=\u001b[0m \u001b[0mstr\u001b[0m\u001b[0;34m(\u001b[0m\u001b[0membed_options\u001b[0m\u001b[0;34m[\u001b[0m\u001b[0;34m'height'\u001b[0m\u001b[0;34m]\u001b[0m\u001b[0;34m)\u001b[0m \u001b[0;34m+\u001b[0m \u001b[0;34m'px'\u001b[0m\u001b[0;34m\u001b[0m\u001b[0m\n\u001b[1;32m    163\u001b[0m \u001b[0;34m\u001b[0m\u001b[0m\n\u001b[0;32m--> 164\u001b[0;31m     \u001b[0;32mreturn\u001b[0m \u001b[0mtools\u001b[0m\u001b[0;34m.\u001b[0m\u001b[0membed\u001b[0m\u001b[0;34m(\u001b[0m\u001b[0murl\u001b[0m\u001b[0;34m,\u001b[0m \u001b[0;34m**\u001b[0m\u001b[0membed_options\u001b[0m\u001b[0;34m)\u001b[0m\u001b[0;34m\u001b[0m\u001b[0m\n\u001b[0m\u001b[1;32m    165\u001b[0m \u001b[0;34m\u001b[0m\u001b[0m\n\u001b[1;32m    166\u001b[0m \u001b[0;34m\u001b[0m\u001b[0m\n",
      "\u001b[0;32m/Library/Frameworks/Python.framework/Versions/2.7/lib/python2.7/site-packages/plotly/tools.pyc\u001b[0m in \u001b[0;36membed\u001b[0;34m(file_owner_or_url, file_id, width, height)\u001b[0m\n\u001b[1;32m    388\u001b[0m         \u001b[0;32melse\u001b[0m\u001b[0;34m:\u001b[0m\u001b[0;34m\u001b[0m\u001b[0m\n\u001b[1;32m    389\u001b[0m             \u001b[0murl\u001b[0m \u001b[0;34m=\u001b[0m \u001b[0mfile_owner_or_url\u001b[0m\u001b[0;34m\u001b[0m\u001b[0m\n\u001b[0;32m--> 390\u001b[0;31m         \u001b[0;32mreturn\u001b[0m \u001b[0mPlotlyDisplay\u001b[0m\u001b[0;34m(\u001b[0m\u001b[0murl\u001b[0m\u001b[0;34m,\u001b[0m \u001b[0mwidth\u001b[0m\u001b[0;34m,\u001b[0m \u001b[0mheight\u001b[0m\u001b[0;34m)\u001b[0m\u001b[0;34m\u001b[0m\u001b[0m\n\u001b[0m\u001b[1;32m    391\u001b[0m     \u001b[0;32melse\u001b[0m\u001b[0;34m:\u001b[0m\u001b[0;34m\u001b[0m\u001b[0m\n\u001b[1;32m    392\u001b[0m         if (get_config_defaults()['plotly_domain']\n",
      "\u001b[0;32m/Library/Frameworks/Python.framework/Versions/2.7/lib/python2.7/site-packages/plotly/tools.pyc\u001b[0m in \u001b[0;36m__init__\u001b[0;34m(self, url, width, height)\u001b[0m\n\u001b[1;32m   1432\u001b[0m         \u001b[0;32mdef\u001b[0m \u001b[0m__init__\u001b[0m\u001b[0;34m(\u001b[0m\u001b[0mself\u001b[0m\u001b[0;34m,\u001b[0m \u001b[0murl\u001b[0m\u001b[0;34m,\u001b[0m \u001b[0mwidth\u001b[0m\u001b[0;34m,\u001b[0m \u001b[0mheight\u001b[0m\u001b[0;34m)\u001b[0m\u001b[0;34m:\u001b[0m\u001b[0;34m\u001b[0m\u001b[0m\n\u001b[1;32m   1433\u001b[0m             \u001b[0mself\u001b[0m\u001b[0;34m.\u001b[0m\u001b[0mresource\u001b[0m \u001b[0;34m=\u001b[0m \u001b[0murl\u001b[0m\u001b[0;34m\u001b[0m\u001b[0m\n\u001b[0;32m-> 1434\u001b[0;31m             \u001b[0mself\u001b[0m\u001b[0;34m.\u001b[0m\u001b[0membed_code\u001b[0m \u001b[0;34m=\u001b[0m \u001b[0mget_embed\u001b[0m\u001b[0;34m(\u001b[0m\u001b[0murl\u001b[0m\u001b[0;34m,\u001b[0m \u001b[0mwidth\u001b[0m\u001b[0;34m=\u001b[0m\u001b[0mwidth\u001b[0m\u001b[0;34m,\u001b[0m \u001b[0mheight\u001b[0m\u001b[0;34m=\u001b[0m\u001b[0mheight\u001b[0m\u001b[0;34m)\u001b[0m\u001b[0;34m\u001b[0m\u001b[0m\n\u001b[0m\u001b[1;32m   1435\u001b[0m             \u001b[0msuper\u001b[0m\u001b[0;34m(\u001b[0m\u001b[0mPlotlyDisplay\u001b[0m\u001b[0;34m,\u001b[0m \u001b[0mself\u001b[0m\u001b[0;34m)\u001b[0m\u001b[0;34m.\u001b[0m\u001b[0m__init__\u001b[0m\u001b[0;34m(\u001b[0m\u001b[0mdata\u001b[0m\u001b[0;34m=\u001b[0m\u001b[0mself\u001b[0m\u001b[0;34m.\u001b[0m\u001b[0membed_code\u001b[0m\u001b[0;34m)\u001b[0m\u001b[0;34m\u001b[0m\u001b[0m\n\u001b[1;32m   1436\u001b[0m \u001b[0;34m\u001b[0m\u001b[0m\n",
      "\u001b[0;32m/Library/Frameworks/Python.framework/Versions/2.7/lib/python2.7/site-packages/plotly/tools.pyc\u001b[0m in \u001b[0;36mget_embed\u001b[0;34m(file_owner_or_url, file_id, width, height)\u001b[0m\n\u001b[1;32m    293\u001b[0m                 \u001b[0;34m\"'{1}'.\"\u001b[0m\u001b[0;34m\u001b[0m\u001b[0m\n\u001b[1;32m    294\u001b[0m                 \u001b[0;34m\"\\nRun help on this function for more information.\"\u001b[0m\u001b[0;34m\u001b[0m\u001b[0m\n\u001b[0;32m--> 295\u001b[0;31m                 \"\".format(url, plotly_rest_url))\n\u001b[0m\u001b[1;32m    296\u001b[0m         \u001b[0murlsplit\u001b[0m \u001b[0;34m=\u001b[0m \u001b[0msix\u001b[0m\u001b[0;34m.\u001b[0m\u001b[0mmoves\u001b[0m\u001b[0;34m.\u001b[0m\u001b[0murllib\u001b[0m\u001b[0;34m.\u001b[0m\u001b[0mparse\u001b[0m\u001b[0;34m.\u001b[0m\u001b[0murlparse\u001b[0m\u001b[0;34m(\u001b[0m\u001b[0murl\u001b[0m\u001b[0;34m)\u001b[0m\u001b[0;34m\u001b[0m\u001b[0m\n\u001b[1;32m    297\u001b[0m         \u001b[0mfile_owner\u001b[0m \u001b[0;34m=\u001b[0m \u001b[0murlsplit\u001b[0m\u001b[0;34m.\u001b[0m\u001b[0mpath\u001b[0m\u001b[0;34m.\u001b[0m\u001b[0msplit\u001b[0m\u001b[0;34m(\u001b[0m\u001b[0;34m'/'\u001b[0m\u001b[0;34m)\u001b[0m\u001b[0;34m[\u001b[0m\u001b[0;36m1\u001b[0m\u001b[0;34m]\u001b[0m\u001b[0;34m.\u001b[0m\u001b[0msplit\u001b[0m\u001b[0;34m(\u001b[0m\u001b[0;34m'~'\u001b[0m\u001b[0;34m)\u001b[0m\u001b[0;34m[\u001b[0m\u001b[0;36m1\u001b[0m\u001b[0;34m]\u001b[0m\u001b[0;34m\u001b[0m\u001b[0m\n",
      "\u001b[0;31mPlotlyError\u001b[0m: Because you didn't supply a 'file_id' in the call, we're assuming you're trying to snag a figure from a url. You supplied the url, '', we expected it to start with 'https://plot.ly'.\nRun help on this function for more information."
     ],
     "output_type": "error"
    }
   ],
   "source": [
    "df=readfiles()\n",
    "df=drawdf(df,selfdraw=False)\n",
    "\n",
    "df = cf.datagen.lines()\n",
    "\n",
    "py.iplot([{\n",
    "    'x': df.index,\n",
    "    'y': df[col],\n",
    "    'name': col\n",
    "}  for col in df.columns], filename='cufflinks/simple-line')\n"
   ]
  }
 ],
 "metadata": {
  "kernelspec": {
   "display_name": "Python 2",
   "language": "python",
   "name": "python2"
  },
  "language_info": {
   "codemirror_mode": {
    "name": "ipython",
    "version": 2
   },
   "file_extension": ".py",
   "mimetype": "text/x-python",
   "name": "python",
   "nbconvert_exporter": "python",
   "pygments_lexer": "ipython2",
   "version": "2.7.6"
  }
 },
 "nbformat": 4,
 "nbformat_minor": 0
}
