{
 "cells": [
  {
   "cell_type": "code",
   "execution_count": null,
   "metadata": {},
   "outputs": [],
   "source": [
    "#instantiation\n",
    "\n",
    "import pandas as pd\n",
    "import os\n",
    "import numpy as np\n",
    "import scipy as sp\n",
    "\n",
    "from StringIO import StringIO\n",
    "\n",
    "import pandas as pd\n",
    "from plotly.offline import download_plotlyjs, init_notebook_mode, iplot\n",
    "from plotly.graph_objs import *\n",
    "init_notebook_mode()\n",
    "\n",
    "import cufflinks as cf\n",
    "cf.go_offline() # required to use plotly offline (no account required).\n",
    "\n",
    "\n",
    "\n",
    "def readfiles():\n",
    "\n",
    "    bol_recursive=False\n",
    "    df=None\n",
    "\n",
    "    basepath=os.getcwd().replace('\\\\','/')+'/'\n",
    "    print basepath\n",
    "\n",
    "    files=[]\n",
    "\n",
    "    for str_dirname, lst_subdirs, lst_files in os.walk(basepath):\n",
    "        if not bol_recursive:\n",
    "            while len(lst_subdirs) > 0:\n",
    "                lst_subdirs.pop()\n",
    "                for file in lst_files:\n",
    "                    if '.csv' in file and not 'corr' in file and not 'fileread' in file:\n",
    "                        with open(basepath+file,'rb') as f:\n",
    "                            buffer=f.read()\n",
    "                            files.append(buffer)\n",
    "#                             print buffer\n",
    "                            f.close()\n",
    "\n",
    "    for f in files:\n",
    "\n",
    "        headers = {}\n",
    "        buffer=[]\n",
    "        headermode = True\n",
    "        for line in f.split('\\n'):\n",
    "            if headermode and 'Date,' in line:\n",
    "                headermode=False\n",
    "            elements=line.strip().split(',')\n",
    "            if len(elements) < 3 and len(elements) > 1:         # filter out header info\n",
    "                headers[elements[0].strip()]=elements[1].strip()\n",
    "            else:\n",
    "                linein=False\n",
    "                if len(elements)>1 and not headermode and '0.00 USD,0.00 USD' not in line:\n",
    "                    buffer.append(line)\n",
    "                    linein=True\n",
    "                # print f,linein,line\n",
    "\n",
    "        # Read file stream CSV\n",
    "        currentdf = pd.read_csv(StringIO('\\n'.join(buffer)))\n",
    "\n",
    "        # Replace Strings\n",
    "        currentdf = currentdf.replace('\\sUSD', '', regex=True).apply(pd.to_numeric, errors='ignore')\n",
    "        try:\n",
    "            if df==None:\n",
    "                df=pd.DataFrame(columns=['date'])\n",
    "                df['date'] = currentdf['Date']\n",
    "        except Exception as e:\n",
    "            # TODO\n",
    "            do_nothing=True\n",
    "#             print e\n",
    "#             print 'Deal with this exception another time - likely some issue with comparing a NoneType to a DataFrame'\n",
    "\n",
    "        # print currentdf.columns\n",
    "        df[headers['Keywords']] = currentdf['Average Selling Price']\n",
    "\n",
    "    df['combined']=0\n",
    "    df.to_csv('fileread.csv')\n",
    "    return df\n",
    "\n",
    "df = readfiles()\n"
   ]
  },
  {
   "cell_type": "code",
   "execution_count": null,
   "metadata": {},
   "outputs": [],
   "source": [
    "# Filter outliers\n",
    "\n",
    "percentile=0.95\n",
    "\n",
    "for c in df.columns:\n",
    "    if c not in ['date']:\n",
    "        q = df[c].quantile(percentile)\n",
    "        df[c] = df[df[c] < q][c]\n"
   ]
  },
  {
   "cell_type": "code",
   "execution_count": null,
   "metadata": {},
   "outputs": [],
   "source": [
    "# Resampling\n",
    "\n",
    "\n"
   ]
  },
  {
   "cell_type": "code",
   "execution_count": null,
   "metadata": {},
   "outputs": [],
   "source": [
    "df.iplot(x='date',y=[c for c in df.columns if c not in ['date'] ])"
   ]
  }
 ],
 "metadata": {
  "kernelspec": {
   "display_name": "Python 2",
   "language": "python",
   "name": "python2"
  },
  "language_info": {
   "codemirror_mode": {
    "name": "ipython",
    "version": 2
   },
   "file_extension": ".py",
   "mimetype": "text/x-python",
   "name": "python",
   "nbconvert_exporter": "python",
   "pygments_lexer": "ipython2",
   "version": "2.7.14"
  },
  "widgets": {
   "application/vnd.jupyter.widget-state+json": {
    "state": {},
    "version_major": 2,
    "version_minor": 0
   }
  }
 },
 "nbformat": 4,
 "nbformat_minor": 1
}
