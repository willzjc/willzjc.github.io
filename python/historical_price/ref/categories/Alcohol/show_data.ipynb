{
 "cells": [
  {
   "cell_type": "code",
   "execution_count": 7,
   "metadata": {
    "collapsed": false
   },
   "outputs": [
    {
     "name": "stdout",
     "output_type": "stream",
     "text": [
      "C:/Users/Will-AMD/PycharmProjects\n"
     ]
    },
    {
     "ename": "TypeError",
     "evalue": "'NoneType' object does not support item assignment",
     "traceback": [
      "\u001b[1;31m\u001b[0m",
      "\u001b[1;31mTypeError\u001b[0mTraceback (most recent call last)",
      "\u001b[1;32m<ipython-input-7-78de3dbe67f5>\u001b[0m in \u001b[0;36m<module>\u001b[1;34m()\u001b[0m\n\u001b[0;32m     68\u001b[0m     \u001b[1;32mreturn\u001b[0m \u001b[0mdf\u001b[0m\u001b[1;33m\u001b[0m\u001b[0m\n\u001b[0;32m     69\u001b[0m \u001b[1;33m\u001b[0m\u001b[0m\n\u001b[1;32m---> 70\u001b[1;33m \u001b[0mdf\u001b[0m \u001b[1;33m=\u001b[0m \u001b[0mreadfiles\u001b[0m\u001b[1;33m(\u001b[0m\u001b[1;33m)\u001b[0m\u001b[1;33m\u001b[0m\u001b[0m\n\u001b[0m\u001b[0;32m     71\u001b[0m \u001b[1;33m\u001b[0m\u001b[0m\n\u001b[0;32m     72\u001b[0m \u001b[1;33m\u001b[0m\u001b[0m\n",
      "\u001b[1;32m<ipython-input-7-78de3dbe67f5>\u001b[0m in \u001b[0;36mreadfiles\u001b[1;34m()\u001b[0m\n\u001b[0;32m     64\u001b[0m         \u001b[0mdf\u001b[0m\u001b[1;33m[\u001b[0m\u001b[0mheaders\u001b[0m\u001b[1;33m[\u001b[0m\u001b[1;34m'Keywords'\u001b[0m\u001b[1;33m]\u001b[0m\u001b[1;33m]\u001b[0m \u001b[1;33m=\u001b[0m \u001b[0mcurrentdf\u001b[0m\u001b[1;33m[\u001b[0m\u001b[1;34m'Average Selling Price'\u001b[0m\u001b[1;33m]\u001b[0m\u001b[1;33m\u001b[0m\u001b[0m\n\u001b[0;32m     65\u001b[0m \u001b[1;33m\u001b[0m\u001b[0m\n\u001b[1;32m---> 66\u001b[1;33m     \u001b[0mdf\u001b[0m\u001b[1;33m[\u001b[0m\u001b[1;34m'combined'\u001b[0m\u001b[1;33m]\u001b[0m\u001b[1;33m=\u001b[0m\u001b[1;36m0\u001b[0m\u001b[1;33m\u001b[0m\u001b[0m\n\u001b[0m\u001b[0;32m     67\u001b[0m     \u001b[0mdf\u001b[0m\u001b[1;33m.\u001b[0m\u001b[0mto_csv\u001b[0m\u001b[1;33m(\u001b[0m\u001b[1;34m'fileread.csv'\u001b[0m\u001b[1;33m)\u001b[0m\u001b[1;33m\u001b[0m\u001b[0m\n\u001b[0;32m     68\u001b[0m     \u001b[1;32mreturn\u001b[0m \u001b[0mdf\u001b[0m\u001b[1;33m\u001b[0m\u001b[0m\n",
      "\u001b[1;31mTypeError\u001b[0m: 'NoneType' object does not support item assignment"
     ],
     "output_type": "error"
    }
   ],
   "source": [
    "import pandas as pd\n",
    "import os\n",
    "import numpy as np\n",
    "import scipy as sp\n",
    "import plotly.plotly as py\n",
    "\n",
    "import plotly.plotly as py\n",
    "import plotly.figure_factory as ff\n",
    "import pandas as pd\n",
    "\n",
    "def readfiles():\n",
    "\n",
    "    bol_recursive=False\n",
    "    df=None\n",
    "\n",
    "    basepath=os.getcwd().replace('\\\\','/')\n",
    "    print basepath\n",
    "\n",
    "    files=[]\n",
    "\n",
    "    for str_dirname, lst_subdirs, lst_files in os.walk(basepath):\n",
    "        if not bol_recursive:\n",
    "            while len(lst_subdirs) > 0:\n",
    "                lst_subdirs.pop()\n",
    "                for file in lst_files:\n",
    "                    if '.csv' in file and not 'corr' in file:\n",
    "                        with open(basepath+file,'rb') as f:\n",
    "                            files.append(f.read())\n",
    "                            f.close()\n",
    "\n",
    "    for f in files:\n",
    "\n",
    "        headers = {}\n",
    "        buffer=[]\n",
    "        headermode = True\n",
    "        for line in f.split('\\n'):\n",
    "            if headermode and 'Date,' in line:\n",
    "                headermode=False\n",
    "            elements=line.strip().split(',')\n",
    "            if len(elements) < 3 and len(elements) > 1:         # filter out header info\n",
    "                headers[elements[0].strip()]=elements[1].strip()\n",
    "            else:\n",
    "                linein=False\n",
    "                if len(elements)>1 and not headermode and '0.00 USD,0.00 USD' not in line:\n",
    "                    buffer.append(line)\n",
    "                    linein=True\n",
    "                # print f,linein,line\n",
    "\n",
    "        # Read file stream CSV\n",
    "        currentdf = pd.read_csv(StringIO('\\n'.join(buffer)))\n",
    "\n",
    "        # Replace Strings\n",
    "        currentdf = currentdf.replace('\\sUSD', '', regex=True).apply(pd.to_numeric, errors='ignore')\n",
    "        try:\n",
    "            if df==None:\n",
    "                df=pd.DataFrame(columns=['date'])\n",
    "                df['date'] = currentdf['Date']\n",
    "        except Exception as e:\n",
    "            # TODO\n",
    "            print e\n",
    "            print 'Deal with this exception another time - likely some issue with comparing a NoneType to a DataFrame'\n",
    "\n",
    "        # print currentdf.columns\n",
    "        df[headers['Keywords']] = currentdf['Average Selling Price']\n",
    "\n",
    "    df['combined']=0\n",
    "    df.to_csv('fileread.csv')\n",
    "    return df\n",
    "\n",
    "df = readfiles()\n",
    "\n",
    "\n"
   ]
  },
  {
   "cell_type": "code",
   "execution_count": null,
   "metadata": {},
   "outputs": [],
   "source": []
  }
 ],
 "metadata": {
  "kernelspec": {
   "display_name": "Python 2",
   "language": "python",
   "name": "python2"
  },
  "language_info": {
   "codemirror_mode": {
    "name": "ipython",
    "version": 2
   },
   "file_extension": ".py",
   "mimetype": "text/x-python",
   "name": "python",
   "nbconvert_exporter": "python",
   "pygments_lexer": "ipython2",
   "version": "2.7.6"
  }
 },
 "nbformat": 4,
 "nbformat_minor": 0
}
