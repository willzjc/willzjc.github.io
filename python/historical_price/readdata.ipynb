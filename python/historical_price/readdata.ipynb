{
 "cells": [
  {
   "cell_type": "heading",
   "metadata": {},
   "level": 1,
   "source": [
    "This is a test of the graphing capabilities of Jupyter notebook"
   ]
  },
  {
   "cell_type": "code",
   "execution_count": 27,
   "metadata": {
    "collapsed": false
   },
   "outputs": [
    {
     "data": {
      "text/html": [
       "<iframe id=\"igraph\" scrolling=\"no\" style=\"border:none;\" seamless=\"seamless\" src=\"https://plot.ly/~willzjc/12.embed\" height=\"525px\" width=\"100%\"></iframe>"
      ],
      "text/plain": [
       "<iframe id=\"igraph\" scrolling=\"no\" style=\"border:none;\" seamless=\"seamless\" src=\"https://plot.ly/~willzjc/12.embed\" height=\"525px\" width=\"100%\"></iframe>"
      ]
     },
     "execution_count": 27,
     "metadata": {},
     "output_type": "execute_result"
    }
   ],
   "source": [
    "import pandas as pd\n",
    "import numpy as np\n",
    "import scipy as sp\n",
    "import plotly.plotly as py\n",
    "\n",
    "import plotly.plotly as py\n",
    "import plotly.figure_factory as ff\n",
    "import pandas as pd\n",
    "\n",
    "df = pd.read_csv(\"https://raw.githubusercontent.com/plotly/datasets/master/school_earnings.csv\")\n",
    "\n",
    "table = ff.create_table(df)\n",
    "# py.iplot(table, filename='jupyter_table')\n",
    "\n",
    "df.std()\n",
    "\n",
    "\n",
    "import plotly.plotly as py\n",
    "from plotly.graph_objs import *\n",
    "\n",
    "data = [Bar(x=df.School,\n",
    "            y=df.Gap)]\n",
    "\n",
    "py.iplot(data, filename='jupyter_basic_bar')"
   ]
  },
  {
   "cell_type": "code",
   "execution_count": 28,
   "metadata": {
    "collapsed": false
   },
   "outputs": [
    {
     "data": {
      "text/html": [
       "<iframe id=\"igraph\" scrolling=\"no\" style=\"border:none;\" seamless=\"seamless\" src=\"https://plot.ly/~willzjc/15.embed\" height=\"525px\" width=\"100%\"></iframe>"
      ],
      "text/plain": [
       "<iframe id=\"igraph\" scrolling=\"no\" style=\"border:none;\" seamless=\"seamless\" src=\"https://plot.ly/~willzjc/15.embed\" height=\"525px\" width=\"100%\"></iframe>"
      ]
     },
     "execution_count": 28,
     "metadata": {},
     "output_type": "execute_result"
    }
   ],
   "source": [
    "import plotly.plotly as py\n",
    "from plotly.graph_objs import *\n",
    "\n",
    "trace_women = Bar(x=df.School,\n",
    "                  y=df.Women,\n",
    "                  name='Women',\n",
    "                  marker=dict(color='#ffcdd2'))\n",
    "\n",
    "trace_men = Bar(x=df.School,\n",
    "                y=df.Men,\n",
    "                name='Men',\n",
    "                marker=dict(color='#A2D5F2'))\n",
    "\n",
    "trace_gap = Bar(x=df.School,\n",
    "                y=df.Gap,\n",
    "                name='Gap',\n",
    "                marker=dict(color='#59606D'))\n",
    "\n",
    "data = [trace_women, trace_men, trace_gap]\n",
    "layout = Layout(title=\"Average Earnings for Graduates\",\n",
    "                xaxis=dict(title='School'),\n",
    "                yaxis=dict(title='Salary (in thousands)'))\n",
    "fig = Figure(data=data, layout=layout)\n",
    "\n",
    "py.iplot(fig, filename='jupyter_styled_bar')"
   ]
  },
  {
   "cell_type": "code",
   "execution_count": 31,
   "metadata": {
    "collapsed": true
   },
   "outputs": [],
   "source": [
    "import plotly.plotly as py\n",
    "from plotly.graph_objs import *\n",
    "import pandas as pd\n",
    "import os\n",
    "cwd=os.getcwd().replace('\\\\','/')\n",
    "#github/willzjc.github.io\n",
    "if 'historical' not in cwd:\n",
    "    cwd=cwd+'/github/willzjc.github.io/python/historical_price/'\n",
    "os.chdir(cwd)\n",
    "\n"
   ]
  },
  {
   "cell_type": "code",
   "execution_count": 38,
   "metadata": {
    "collapsed": false
   },
   "outputs": [
    {
     "data": {
      "text/html": [
       "<iframe id=\"igraph\" scrolling=\"no\" style=\"border:none;\" seamless=\"seamless\" src=\"https://plot.ly/~willzjc/17.embed\" height=\"525px\" width=\"100%\"></iframe>"
      ],
      "text/plain": [
       "<iframe id=\"igraph\" scrolling=\"no\" style=\"border:none;\" seamless=\"seamless\" src=\"https://plot.ly/~willzjc/17.embed\" height=\"525px\" width=\"100%\"></iframe>"
      ]
     },
     "execution_count": 38,
     "metadata": {},
     "output_type": "execute_result"
    }
   ],
   "source": [
    "cdf=pd.read_csv('correl.csv')\n",
    "\n",
    "trace_clothes = Bar(x=cdf.offset,\n",
    "                    y=cdf.clothes,\n",
    "                    name='clothes',\n",
    "                    marker=dict(color='#ffcdd2'))\n",
    "\n",
    "trace_food = Bar(x=cdf.offset,\n",
    "                 y=cdf.food,\n",
    "                 name='food',\n",
    "                 marker=dict(color='#A2D5F2'))\n",
    "\n",
    "trace_furniture = Bar(x=cdf.offset,\n",
    "                      y=cdf.furniture,\n",
    "                      name='furniture',\n",
    "                      marker=dict(color='#59606D'))\n",
    "\n",
    "trace_total = Scatter(\n",
    "    x=cdf.offset\n",
    "    , y=cdf.total\n",
    "    , name='total'\n",
    "    , mode='lines'\n",
    "    # , marker=dict(color='#C9606D')\n",
    ")\n",
    "\n",
    "data = [trace_clothes, trace_food, trace_furniture, trace_total]\n",
    "layout = Layout(title=\"Correlation of CPI / Average prices for various sectors\",\n",
    "                xaxis=dict(title='offset'),\n",
    "                yaxis=dict(title='Correl'))\n",
    "fig = Figure(data=data, layout=layout)\n",
    "\n",
    "py.iplot(fig, filename='sector_correlation')\n"
   ]
  },
  {
   "cell_type": "code",
   "execution_count": 9,
   "metadata": {
    "collapsed": false
   },
   "outputs": [
    {
     "name": "stdout",
     "output_type": "stream",
     "text": [
      "0.12.1\n"
     ]
    }
   ],
   "source": [
    "import plotly.plotly as py\n",
    "import cufflinks as cf\n",
    "import pandas as pd\n",
    "import numpy as np\n",
    "print cf.__version__"
   ]
  },
  {
   "cell_type": "code",
   "execution_count": 17,
   "metadata": {
    "collapsed": true
   },
   "outputs": [
    {
     "name": "stdout",
     "output_type": "stream",
     "text": [
      "/Users/zijianchen/PycharmProjects/github/webgit/willzjc.github.io/python/historical_price/ref/\n                 date    CPI\ndate                        \n2014-10-29 2014-10-29  107.5\n2015-01-28 2015-01-28  108.0\n2015-04-30 2015-04-30  108.4\n2015-07-30 2015-07-30  107.6\n2015-10-30 2015-10-30  108.2\n2016-01-29 2016-01-29  108.6\n2016-04-30 2016-04-30  109.4\n2016-07-31 2016-07-31  110.0\n2016-10-30 2016-10-30  110.5\n2017-01-29 2017-01-29  110.7\n2017-05-01 2017-05-01  111.4\n2017-07-31 2017-07-31  112.1\n"
     ]
    }
   ],
   "source": [
    "import os\n",
    "import pandas as pd\n",
    "import numpy as np\n",
    "import datetime\n",
    "import plotly\n",
    "import plotly.plotly as py\n",
    "import plotly.graph_objs as go\n",
    "import plotly.figure_factory as FF\n",
    "import sys\n",
    "\n",
    "import matplotlib.pyplot as plt\n",
    "\n",
    "from scipy.interpolate import spline\n",
    "\n",
    "# import os\n",
    "# os.chdir('/Users/zijianchen/PycharmProjects/github/webgit/willzjc.github.io/python/historical_price')\n",
    "\n",
    "if sys.version_info[0] < 3:\n",
    "    from StringIO import StringIO\n",
    "else:\n",
    "    from io import StringIO\n",
    "\n",
    "def drawdf(df,selfdraw=True):\n",
    "\n",
    "\n",
    "    #Normalize DF First\n",
    "\n",
    "    df['combined']=0\n",
    "    for eachitem in df.columns:\n",
    "        if not 'date' in eachitem:\n",
    "            df[eachitem] = (df[eachitem] - df[eachitem].mean()) / (df[eachitem].std())\n",
    "            df['combined']=df['combined']+df[eachitem]\n",
    "\n",
    "    # Get Total Rating based on average of\n",
    "    df['avg']=df[[c for c in df.columns[1:]]].mean(axis=1)\n",
    "\n",
    "    # df=df.replace('\\sUSD','',regex=True).apply(pd.to_numeric, errors='ignore')\n",
    "    # df['dateindex']=pd.to_datetime(df['date'])\n",
    "    df['date']=pd.to_datetime(df['date'])\n",
    "    df=df.set_index(pd.DatetimeIndex(df['date']))\n",
    "\n",
    "\n",
    "    cpi=pd.read_csv('ref/AUCPI',delimiter='\\t')\n",
    "    cpi['date']=pd.to_datetime(cpi['date'])\n",
    "\n",
    "    # Timeshift\n",
    "    timeshift=31+92\n",
    "    cpi['date'] = cpi['date'] - datetime.timedelta(days=(timeshift))\n",
    "\n",
    "    cpi=cpi.set_index(pd.DatetimeIndex(cpi['date']))\n",
    "\n",
    "    print cpi\n",
    "\n",
    "    # Normalize CPI\n",
    "    # index = pd.date_range(cpi['date'].max(),cpi['date'].min())\n",
    "    # index = pd.date_range(cpi['date'])\n",
    "    # values = pd.Series(cpi.values, index=index)\n",
    "\n",
    "    # Read above link about the different Offset Aliases, S=Seconds\n",
    "    # resampled_values = values.resample('2.5D')\n",
    "    # cpi.diff()  # compute the difference between each point!\n",
    "\n",
    "\n",
    "    cpi['CPI'] = (cpi['CPI'] - cpi['CPI'].mean()) / (cpi['CPI'].std())\n",
    "\n",
    "\n",
    "    # xnew = np.linspace(df['combined'].min(), df['combined'].max(), 300)  # 300 represents number of points to make between T.min and T.max\n",
    "\n",
    "    # power_smooth = spline(df['date'], df['combined'], xnew)\n",
    "\n",
    "    # plt.plot(xnew, power_smooth)\n",
    "    # plt.show()\n",
    "\n",
    "    ##### Concat both tables #####\n",
    "    df=pd.concat([cpi,df],axis=1, join='inner')\n",
    "    # print type(df),type(cpi)\n",
    "\n",
    "    # ##### Massaging Data #####\n",
    "    # ### resample\n",
    "    # df = df.resample('M').mean()\n",
    "    # df = df.resample('M')\n",
    "    # df = df.resample('D')\n",
    "    # # ### interpolate\n",
    "    # df= df.interpolate(method='cubic')\n",
    "\n",
    "    # df.plot(kind='bar')\n",
    "    # df['bad_rate'].plot(secondary_y=True)\n",
    "\n",
    "    #### PLOTTING SECTION #####\n",
    "    # cpi=cpi.interpolate(method='cubic')\n",
    "    # tsint.plot()\n",
    "    # tsint.plot(y='combined', use_index=True)\n",
    "    # tsint.plot()\n",
    "    # ax = cpi.plot(y='CPI', use_index=True, kind='bar')\n",
    "    # tsint.plot.line(ax=ax,y='avg',use_index=True,secondary_y=True,kind='line')\n",
    "    # cpi_s.plot(ax=ax)\n",
    "    # result.plot(y='avg',kind='bar')\n",
    "    # result.plot(y='CPI',secondary_y=True)\n",
    "    # result.plot(y=['avg','CPI'])\n",
    "    f, axarr = plt.subplots(2)\n",
    "\n",
    "\n",
    "    df['positive']=df['avg'] > 0\n",
    "    \n",
    "    if selfdraw:\n",
    "        df.CPI.plot(legend=True, ax=axarr[0])\n",
    "        df.avg.plot(ax=axarr[1], kind='bar', legend=True,color=df.positive.map({True: 'g', False: 'r'}))\n",
    "        plt.show()\n",
    "    \n",
    "    return df\n",
    "\n",
    "def readfiles():\n",
    "\n",
    "    bol_recursive=False\n",
    "    df=pd.DataFrame(columns=['date'])\n",
    "\n",
    "    basepath=os.getcwd().replace('\\\\','/') + '/' + 'ref' + '/'\n",
    "    print basepath\n",
    "\n",
    "    files=[]\n",
    "\n",
    "    for str_dirname, lst_subdirs, lst_files in os.walk(basepath):\n",
    "        if not bol_recursive:\n",
    "            while len(lst_subdirs) > 0:\n",
    "                lst_subdirs.pop()\n",
    "                for file in lst_files:\n",
    "                    if '.csv' in file:\n",
    "                        with open(basepath+file,'rb') as f:\n",
    "                            files.append(f.read())\n",
    "                            f.close()\n",
    "\n",
    "    for f in files:\n",
    "\n",
    "        headers = {}\n",
    "        buffer=[]\n",
    "        headermode = True\n",
    "        for line in f.split('\\n'):\n",
    "            if headermode and 'Date,' in line:\n",
    "                headermode=False\n",
    "            elements=line.strip().split(',')\n",
    "            if len(elements) < 3 and len(elements) > 1:         # filter out header info\n",
    "                headers[elements[0].strip()]=elements[1].strip()\n",
    "            else:\n",
    "                if len(elements)>1 and not headermode:\n",
    "                    buffer.append(line)\n",
    "\n",
    "        # Read file stream CSV\n",
    "        currentdf = pd.read_csv(StringIO('\\n'.join(buffer)))\n",
    "\n",
    "        # Replace Strings\n",
    "        currentdf = currentdf.replace('\\sUSD', '', regex=True).apply(pd.to_numeric, errors='ignore')\n",
    "        try:\n",
    "            df['date'] = currentdf['Date']\n",
    "        except:\n",
    "            # TODO\n",
    "            print 'Deal with this exception another time'\n",
    "\n",
    "        df[headers['Keywords']] = currentdf['Average Selling Price']\n",
    "\n",
    "    # df['combined']=0\n",
    "\n",
    "    return df\n",
    "\n",
    "def main():\n",
    "    df=readfiles()\n",
    "    drawdf(df)\n",
    "\n",
    "if __name__ == \"__main__\":\n",
    "    main()"
   ]
  },
  {
   "cell_type": "code",
   "execution_count": 7,
   "metadata": {
    "collapsed": true
   },
   "outputs": [
    {
     "name": "stdout",
     "output_type": "stream",
     "text": [
      "              Seroes  \\\n0               Unit   \n1        Series Type   \n2          Data Type   \n3          Frequency   \n4   Collection Month   \n5       Series Start   \n6         Series End   \n7            No. Obs   \n8          Series ID   \n9           Jun-2005   \n10          Sep-2005   \n11          Dec-2005   \n12          Mar-2006   \n13          Jun-2006   \n14          Sep-2006   \n15          Dec-2006   \n16          Mar-2007   \n17          Jun-2007   \n18          Sep-2007   \n19          Dec-2007   \n20          Mar-2008   \n21          Jun-2008   \n22          Sep-2008   \n23          Dec-2008   \n24          Mar-2009   \n25          Jun-2009   \n26          Sep-2009   \n27          Dec-2009   \n28          Mar-2010   \n29          Jun-2010   \n30          Sep-2010   \n31          Dec-2010   \n32          Mar-2011   \n33          Jun-2011   \n34          Sep-2011   \n35          Dec-2011   \n36          Mar-2012   \n37          Jun-2012   \n38          Sep-2012   \n39          Dec-2012   \n40          Mar-2013   \n41          Jun-2013   \n42          Sep-2013   \n43          Dec-2013   \n44          Mar-2014   \n45          Jun-2014   \n46          Sep-2014   \n47          Dec-2014   \n48          Mar-2015   \n49          Jun-2015   \n50          Sep-2015   \n51          Dec-2015   \n52          Mar-2016   \n53          Jun-2016   \n54          Sep-2016   \n55          Dec-2016   \n56          Mar-2017   \n57          Jun-2017   \n58          Sep-2017   \n59          Dec-2017   \n\n   Index Numbers ;  Food and non-alcoholic beverages ;  Australia ;  \\\n0                                       Index Numbers                 \n1                                            Original                 \n2                                               INDEX                 \n3                                             Quarter                 \n4                                                   3                 \n5                                            Sep-1972                 \n6                                            Dec-2017                 \n7                                                 182                 \n8                                           A2325891R                 \n9                                                78.9                 \n10                                               79.5                 \n11                                               81.0                 \n12                                               82.1                 \n13                                               85.5                 \n14                                               87.5                 \n15                                               87.9                 \n16                                               85.8                 \n17                                               87.3                 \n18                                               89.0                 \n19                                               88.9                 \n20                                               90.8                 \n21                                               90.7                 \n22                                               92.0                 \n23                                               93.9                 \n24                                               96.0                 \n25                                               95.1                 \n26                                               94.3                 \n27                                               95.7                 \n28                                               96.7                 \n29                                               96.4                 \n30                                               95.9                 \n31                                               98.0                 \n32                                              100.9                 \n33                                              102.3                 \n34                                              102.0                 \n35                                              100.5                 \n36                                               98.4                 \n37                                               99.0                 \n38                                              100.9                 \n39                                              100.8                 \n40                                              100.0                 \n41                                              100.1                 \n42                                              100.3                 \n43                                              101.9                 \n44                                              102.2                 \n45                                              102.6                 \n46                                              103.8                 \n47                                              103.9                 \n48                                              104.1                 \n49                                              103.9                 \n50                                              104.0                 \n51                                              104.3                 \n52                                              104.1                 \n53                                              103.8                 \n54                                              105.6                 \n55                                              106.2                 \n56                                              106.0                 \n57                                              105.8                 \n58                                              104.9                 \n59                                              106.0                 \n\n   Index Numbers ;  Alcohol and tobacco ;  Australia ;  \\\n0                                       Index Numbers    \n1                                            Original    \n2                                               INDEX    \n3                                             Quarter    \n4                                                   3    \n5                                            Sep-1972    \n6                                            Dec-2017    \n7                                                 182    \n8                                           A2326116V    \n9                                                72.7    \n10                                               73.4    \n11                                               73.8    \n12                                               74.7    \n13                                               75.4    \n14                                               75.8    \n15                                               76.4    \n16                                               77.0    \n17                                               77.7    \n18                                               78.1    \n19                                               79.1    \n20                                               80.0    \n21                                               81.4    \n22                                               82.6    \n23                                               83.7    \n24                                               84.5    \n25                                               85.3    \n26                                               85.9    \n27                                               86.4    \n28                                               87.5    \n29                                               92.7    \n30                                               95.5    \n31                                               96.2    \n32                                               97.3    \n33                                               97.9    \n34                                               98.4    \n35                                               99.3    \n36                                              100.7    \n37                                              101.7    \n38                                              102.6    \n39                                              102.8    \n40                                              104.4    \n41                                              105.8    \n42                                              106.7    \n43                                              108.4    \n44                                              111.5    \n45                                              113.3    \n46                                              114.5    \n47                                              116.4    \n48                                              117.3    \n49                                              118.7    \n50                                              120.2    \n51                                              123.4    \n52                                              124.5    \n53                                              125.7    \n54                                              127.1    \n55                                              130.7    \n56                                              132.1    \n57                                              133.1    \n58                                              136.0    \n59                                              140.3    \n\n   Index Numbers ;  Clothing and footwear ;  Australia ;  \\\n0                                       Index Numbers      \n1                                            Original      \n2                                               INDEX      \n3                                             Quarter      \n4                                                   3      \n5                                            Sep-1972      \n6                                            Dec-2017      \n7                                                 182      \n8                                           A2325936J      \n9                                               101.0      \n10                                              101.1      \n11                                              101.0      \n12                                               98.4      \n13                                               99.3      \n14                                               99.4      \n15                                               98.9      \n16                                               98.6      \n17                                              100.0      \n18                                              100.3      \n19                                              100.5      \n20                                               98.1      \n21                                              101.0      \n22                                              100.3      \n23                                              100.7      \n24                                              100.2      \n25                                              102.3      \n26                                              102.6      \n27                                              102.8      \n28                                               98.4      \n29                                               98.4      \n30                                               99.7      \n31                                               97.9      \n32                                               97.2      \n33                                               99.5      \n34                                              101.0      \n35                                              100.4      \n36                                               98.6      \n37                                              100.0      \n38                                              100.2      \n39                                              101.0      \n40                                               97.1      \n41                                               99.7      \n42                                              100.8      \n43                                               99.7      \n44                                               97.6      \n45                                               99.1      \n46                                               98.1      \n47                                               98.2      \n48                                               96.9      \n49                                               98.2      \n50                                               97.1      \n51                                               98.7      \n52                                               96.1      \n53                                               98.0      \n54                                               98.3      \n55                                               97.8      \n56                                               96.4      \n57                                               96.1      \n58                                               95.2      \n59                                               94.9      \n\n   Index Numbers ;  Housing ;  Australia ;  \\\n0                            Index Numbers   \n1                                 Original   \n2                                    INDEX   \n3                                  Quarter   \n4                                        3   \n5                                 Sep-1972   \n6                                 Dec-2017   \n7                                      182   \n8                                A2325981V   \n9                                     73.6   \n10                                    74.6   \n11                                    75.1   \n12                                    75.6   \n13                                    76.2   \n14                                    77.1   \n15                                    77.5   \n16                                    78.3   \n17                                    78.9   \n18                                    80.4   \n19                                    81.3   \n20                                    82.8   \n21                                    83.7   \n22                                    85.8   \n23                                    86.5   \n24                                    87.3   \n25                                    88.0   \n26                                    90.6   \n27                                    91.3   \n28                                    92.6   \n29                                    93.2   \n30                                    95.2   \n31                                    95.8   \n32                                    97.1   \n33                                    97.5   \n34                                    99.2   \n35                                    99.7   \n36                                   100.3   \n37                                   100.7   \n38                                   103.9   \n39                                   104.1   \n40                                   105.4   \n41                                   106.0   \n42                                   108.1   \n43                                   108.6   \n44                                   109.2   \n45                                   110.1   \n46                                   110.6   \n47                                   111.2   \n48                                   112.1   \n49                                   112.9   \n50                                   113.6   \n51                                   113.7   \n52                                   114.0   \n53                                   114.4   \n54                                   115.6   \n55                                   115.9   \n56                                   116.8   \n57                                   117.2   \n58                                   119.4   \n59                                   119.8   \n\n   Index Numbers ;  Furnishings, household equipment and services ;  Australia ;  \\\n0                                       Index Numbers                              \n1                                            Original                              \n2                                               INDEX                              \n3                                             Quarter                              \n4                                                   3                              \n5                                            Sep-1972                              \n6                                            Dec-2017                              \n7                                                 182                              \n8                                           A2326026R                              \n9                                                94.5                              \n10                                               94.8                              \n11                                               95.4                              \n12                                               95.1                              \n13                                               95.8                              \n14                                               97.1                              \n15                                               97.2                              \n16                                               96.4                              \n17                                               97.8                              \n18                                               95.5                              \n19                                               96.3                              \n20                                               95.6                              \n21                                               97.2                              \n22                                               96.4                              \n23                                               96.7                              \n24                                               97.5                              \n25                                               99.6                              \n26                                              100.2                              \n27                                              100.2                              \n28                                               98.9                              \n29                                               99.8                              \n30                                              100.6                              \n31                                              100.0                              \n32                                               98.4                              \n33                                               99.8                              \n34                                              100.1                              \n35                                              100.2                              \n36                                               99.1                              \n37                                              100.6                              \n38                                              101.6                              \n39                                              101.0                              \n40                                               99.7                              \n41                                              100.7                              \n42                                              101.7                              \n43                                              102.1                              \n44                                              100.6                              \n45                                              101.7                              \n46                                              102.1                              \n47                                              102.6                              \n48                                              102.1                              \n49                                              103.1                              \n50                                              103.9                              \n51                                              104.5                              \n52                                              104.1                              \n53                                              104.7                              \n54                                              105.9                              \n55                                              105.1                              \n56                                              104.0                              \n57                                              104.7                              \n58                                              105.1                              \n59                                              104.3                              \n\n   Index Numbers ;  Health ;  Australia ;  \\\n0                           Index Numbers   \n1                                Original   \n2                                   INDEX   \n3                                 Quarter   \n4                                       3   \n5                                Sep-1989   \n6                                Dec-2017   \n7                                     114   \n8                               A2331111C   \n9                                    75.8   \n10                                   75.0   \n11                                   74.2   \n12                                   77.5   \n13                                   79.3   \n14                                   78.7   \n15                                   78.1   \n16                                   80.9   \n17                                   82.6   \n18                                   82.1   \n19                                   81.3   \n20                                   84.5   \n21                                   86.6   \n22                                   86.4   \n23                                   85.3   \n24                                   89.0   \n25                                   91.0   \n26                                   90.1   \n27                                   89.3   \n28                                   93.5   \n29                                   95.6   \n30                                   94.9   \n31                                   93.7   \n32                                   97.4   \n33                                   99.4   \n34                                   98.4   \n35                                   97.1   \n36                                  101.5   \n37                                  103.0   \n38                                  105.5   \n39                                  104.6   \n40                                  107.7   \n41                                  109.8   \n42                                  109.8   \n43                                  109.2   \n44                                  112.0   \n45                                  115.2   \n46                                  115.0   \n47                                  114.0   \n48                                  116.9   \n49                                  120.1   \n50                                  120.5   \n51                                  120.0   \n52                                  122.3   \n53                                  125.5   \n54                                  125.2   \n55                                  124.4   \n56                                  126.9   \n57                                  130.3   \n58                                  130.1   \n59                                  129.4   \n\n   Index Numbers ;  Transport ;  Australia ;  \\\n0                              Index Numbers   \n1                                   Original   \n2                                      INDEX   \n3                                    Quarter   \n4                                          3   \n5                                   Sep-1972   \n6                                   Dec-2017   \n7                                        182   \n8                                  A2326071A   \n9                                       85.6   \n10                                      88.4   \n11                                      88.0   \n12                                      89.1   \n13                                      92.1   \n14                                      92.5   \n15                                      89.0   \n16                                      89.5   \n17                                      92.3   \n18                                      91.7   \n19                                      93.9   \n20                                      95.7   \n21                                      98.6   \n22                                      99.6   \n23                                      92.7   \n24                                      91.3   \n25                                      92.8   \n26                                      94.6   \n27                                      93.8   \n28                                      95.0   \n29                                      95.7   \n30                                      95.1   \n31                                      95.4   \n32                                      97.9   \n33                                      99.1   \n34                                      99.2   \n35                                      99.2   \n36                                     100.3   \n37                                     101.3   \n38                                     100.5   \n39                                     101.2   \n40                                     101.7   \n41                                     100.8   \n42                                     103.2   \n43                                     103.1   \n44                                     104.2   \n45                                     103.5   \n46                                     103.4   \n47                                     101.1   \n48                                      97.7   \n49                                     101.0   \n50                                     101.1   \n51                                      99.7   \n52                                      97.2   \n53                                      98.2   \n54                                      97.7   \n55                                      99.4   \n56                                     100.9   \n57                                     100.3   \n58                                     100.3   \n59                                     102.7   \n\n   Index Numbers ;  Communication ;  Australia ;  \\\n0                                  Index Numbers   \n1                                       Original   \n2                                          INDEX   \n3                                        Quarter   \n4                                              3   \n5                                       Sep-1972   \n6                                       Dec-2017   \n7                                            182   \n8                                      A2331201J   \n9                                           97.4   \n10                                          96.7   \n11                                          96.0   \n12                                          96.4   \n13                                          96.5   \n14                                          97.1   \n15                                          97.5   \n16                                          97.7   \n17                                          97.9   \n18                                          97.9   \n19                                          97.9   \n20                                          97.9   \n21                                          97.9   \n22                                          98.1   \n23                                          98.5   \n24                                          98.9   \n25                                          99.1   \n26                                          99.1   \n27                                          99.1   \n28                                          99.0   \n29                                          98.9   \n30                                          98.7   \n31                                          98.7   \n32                                          98.8   \n33                                          99.3   \n34                                          99.2   \n35                                         100.3   \n36                                         100.4   \n37                                         100.1   \n38                                         100.6   \n39                                         101.9   \n40                                         101.9   \n41                                         102.3   \n42                                         102.4   \n43                                         103.6   \n44                                         103.8   \n45                                         102.0   \n46                                         100.6   \n47                                         100.5   \n48                                          99.1   \n49                                          98.5   \n50                                          96.5   \n51                                          94.2   \n52                                          92.8   \n53                                          91.4   \n54                                          89.3   \n55                                          88.6   \n56                                          88.3   \n57                                          87.9   \n58                                          86.7   \n59                                          85.6   \n\n   Index Numbers ;  Recreation and culture ;  Australia ;  \\\n0                                       Index Numbers       \n1                                            Original       \n2                                               INDEX       \n3                                             Quarter       \n4                                                   3       \n5                                            Sep-1989       \n6                                            Dec-2017       \n7                                                 114       \n8                                           A2331246L       \n9                                                96.0       \n10                                               97.2       \n11                                               97.2       \n12                                               97.8       \n13                                               97.5       \n14                                               98.2       \n15                                               99.5       \n16                                               98.8       \n17                                               98.4       \n18                                               99.7       \n19                                              100.6       \n20                                              100.2       \n21                                              100.0       \n22                                              101.3       \n23                                              101.9       \n24                                              100.7       \n25                                              100.7       \n26                                              101.4       \n27                                              102.9       \n28                                              101.9       \n29                                              100.1       \n30                                              100.8       \n31                                              101.0       \n32                                              100.4       \n33                                               99.8       \n34                                              100.7       \n35                                              101.5       \n36                                               99.5       \n37                                               98.3       \n38                                               99.2       \n39                                               99.8       \n40                                               99.0       \n41                                               98.2       \n42                                              100.1       \n43                                              102.2       \n44                                              101.7       \n45                                              101.4       \n46                                              102.0       \n47                                              103.0       \n48                                              103.7       \n49                                              102.3       \n50                                              103.1       \n51                                              104.8       \n52                                              103.8       \n53                                              103.1       \n54                                              103.7       \n55                                              104.3       \n56                                              103.6       \n57                                              103.0       \n58                                              104.3       \n59                                              104.9       \n\n   Index Numbers ;  Education ;  Australia ;  \\\n0                              Index Numbers   \n1                                   Original   \n2                                      INDEX   \n3                                    Quarter   \n4                                          3   \n5                                   Mar-1982   \n6                                   Dec-2017   \n7                                        144   \n8                                  A2331426W   \n9                                       71.8   \n10                                      71.9   \n11                                      71.9   \n12                                      76.0   \n13                                      76.0   \n14                                      75.3   \n15                                      75.4   \n16                                      79.1   \n17                                      79.2   \n18                                      78.5   \n19                                      78.5   \n20                                      82.5   \n21                                      82.6   \n22                                      82.2   \n23                                      82.2   \n24                                      86.7   \n25                                      86.7   \n26                                      86.8   \n27                                      86.8   \n28                                      91.6   \n29                                      91.7   \n30                                      91.8   \n31                                      91.8   \n32                                      97.0   \n33                                      97.1   \n34                                      97.1   \n35                                      97.1   \n36                                     102.9   \n37                                     102.9   \n38                                     103.0   \n39                                     103.0   \n40                                     108.9   \n41                                     108.8   \n42                                     108.8   \n43                                     108.8   \n44                                     114.4   \n45                                     114.4   \n46                                     114.5   \n47                                     114.5   \n48                                     120.6   \n49                                     120.6   \n50                                     120.8   \n51                                     120.8   \n52                                     124.6   \n53                                     124.6   \n54                                     124.8   \n55                                     124.8   \n56                                     128.7   \n57                                     128.7   \n58                                     128.7   \n59                                     128.8   \n\n   Index Numbers ;  Insurance and financial services ;  Australia ;  \\\n0                                       Index Numbers                 \n1                                            Original                 \n2                                               INDEX                 \n3                                             Quarter                 \n4                                                   3                 \n5                                            Jun-2005                 \n6                                            Dec-2017                 \n7                                                  51                 \n8                                           A2332596F                 \n9                                                85.1                 \n10                                               85.2                 \n11                                               86.5                 \n12                                               86.0                 \n13                                               87.0                 \n14                                               87.3                 \n15                                               87.7                 \n16                                               87.5                 \n17                                               88.3                 \n18                                               90.1                 \n19                                               92.0                 \n20                                               93.5                 \n21                                               97.0                 \n22                                               98.7                 \n23                                               98.4                 \n24                                               92.2                 \n25                                               90.7                 \n26                                               91.5                 \n27                                               92.2                 \n28                                               94.1                 \n29                                               94.2                 \n30                                               94.7                 \n31                                               94.3                 \n32                                               96.7                 \n33                                               98.2                 \n34                                               98.9                 \n35                                               99.6                 \n36                                              100.5                 \n37                                              101.0                 \n38                                              101.2                 \n39                                              102.7                 \n40                                              103.4                 \n41                                              103.7                 \n42                                              104.1                 \n43                                              104.3                 \n44                                              104.7                 \n45                                              104.7                 \n46                                              105.3                 \n47                                              106.4                 \n48                                              106.6                 \n49                                              106.9                 \n50                                              107.4                 \n51                                              108.3                 \n52                                              109.0                 \n53                                              109.5                 \n54                                              110.5                 \n55                                              111.2                 \n56                                              111.9                 \n57                                              111.8                 \n58                                              112.5                 \n59                                              112.7                 \n\n   Index Numbers ;  All groups CPI ;  Australia ;  \n0                                   Index Numbers  \n1                                        Original  \n2                                           INDEX  \n3                                         Quarter  \n4                                               3  \n5                                        Sep-1948  \n6                                        Dec-2017  \n7                                             278  \n8                                       A2325846C  \n9                                            82.6  \n10                                           83.4  \n11                                           83.8  \n12                                           84.5  \n13                                           85.9  \n14                                           86.7  \n15                                           86.6  \n16                                           86.6  \n17                                           87.7  \n18                                           88.3  \n19                                           89.1  \n20                                           90.3  \n21                                           91.6  \n22                                           92.7  \n23                                           92.4  \n24                                           92.5  \n25                                           92.9  \n26                                           93.8  \n27                                           94.3  \n28                                           95.2  \n29                                           95.8  \n30                                           96.5  \n31                                           96.9  \n32                                           98.3  \n33                                           99.2  \n34                                           99.8  \n35                                           99.8  \n36                                           99.9  \n37                                          100.4  \n38                                          101.8  \n39                                          102.0  \n40                                          102.4  \n41                                          102.8  \n42                                          104.0  \n43                                          104.8  \n44                                          105.4  \n45                                          105.9  \n46                                          106.4  \n47                                          106.6  \n48                                          106.8  \n49                                          107.5  \n50                                          108.0  \n51                                          108.4  \n52                                          108.2  \n53                                          108.6  \n54                                          109.4  \n55                                          110.0  \n56                                          110.5  \n57                                          110.7  \n58                                          111.4  \n59                                          112.1  \n"
     ]
    }
   ],
   "source": [
    "from IPython.display import clear_output\n",
    "clear_output(wait=True)\n",
    "\n",
    "\n",
    "data=\"\"\"Seroes\tIndex Numbers ;  Food and non-alcoholic beverages ;  Australia ;\tIndex Numbers ;  Alcohol and tobacco ;  Australia ;\tIndex Numbers ;  Clothing and footwear ;  Australia ;\tIndex Numbers ;  Housing ;  Australia ;\tIndex Numbers ;  Furnishings, household equipment and services ;  Australia ;\tIndex Numbers ;  Health ;  Australia ;\tIndex Numbers ;  Transport ;  Australia ;\tIndex Numbers ;  Communication ;  Australia ;\tIndex Numbers ;  Recreation and culture ;  Australia ;\tIndex Numbers ;  Education ;  Australia ;\tIndex Numbers ;  Insurance and financial services ;  Australia ;\tIndex Numbers ;  All groups CPI ;  Australia ;\n",
    "Unit\tIndex Numbers\tIndex Numbers\tIndex Numbers\tIndex Numbers\tIndex Numbers\tIndex Numbers\tIndex Numbers\tIndex Numbers\tIndex Numbers\tIndex Numbers\tIndex Numbers\tIndex Numbers\n",
    "Series Type\tOriginal\tOriginal\tOriginal\tOriginal\tOriginal\tOriginal\tOriginal\tOriginal\tOriginal\tOriginal\tOriginal\tOriginal\n",
    "Data Type\tINDEX\tINDEX\tINDEX\tINDEX\tINDEX\tINDEX\tINDEX\tINDEX\tINDEX\tINDEX\tINDEX\tINDEX\n",
    "Frequency\tQuarter\tQuarter\tQuarter\tQuarter\tQuarter\tQuarter\tQuarter\tQuarter\tQuarter\tQuarter\tQuarter\tQuarter\n",
    "Collection Month\t3\t3\t3\t3\t3\t3\t3\t3\t3\t3\t3\t3\n",
    "Series Start\tSep-1972\tSep-1972\tSep-1972\tSep-1972\tSep-1972\tSep-1989\tSep-1972\tSep-1972\tSep-1989\tMar-1982\tJun-2005\tSep-1948\n",
    "Series End\tDec-2017\tDec-2017\tDec-2017\tDec-2017\tDec-2017\tDec-2017\tDec-2017\tDec-2017\tDec-2017\tDec-2017\tDec-2017\tDec-2017\n",
    "No. Obs\t182\t182\t182\t182\t182\t114\t182\t182\t114\t144\t51\t278\n",
    "Series ID\tA2325891R\tA2326116V\tA2325936J\tA2325981V\tA2326026R\tA2331111C\tA2326071A\tA2331201J\tA2331246L\tA2331426W\tA2332596F\tA2325846C\n",
    "Jun-2005\t78.9\t72.7\t101.0\t73.6\t94.5\t75.8\t85.6\t97.4\t96.0\t71.8\t85.1\t82.6\n",
    "Sep-2005\t79.5\t73.4\t101.1\t74.6\t94.8\t75.0\t88.4\t96.7\t97.2\t71.9\t85.2\t83.4\n",
    "Dec-2005\t81.0\t73.8\t101.0\t75.1\t95.4\t74.2\t88.0\t96.0\t97.2\t71.9\t86.5\t83.8\n",
    "Mar-2006\t82.1\t74.7\t98.4\t75.6\t95.1\t77.5\t89.1\t96.4\t97.8\t76.0\t86.0\t84.5\n",
    "Jun-2006\t85.5\t75.4\t99.3\t76.2\t95.8\t79.3\t92.1\t96.5\t97.5\t76.0\t87.0\t85.9\n",
    "Sep-2006\t87.5\t75.8\t99.4\t77.1\t97.1\t78.7\t92.5\t97.1\t98.2\t75.3\t87.3\t86.7\n",
    "Dec-2006\t87.9\t76.4\t98.9\t77.5\t97.2\t78.1\t89.0\t97.5\t99.5\t75.4\t87.7\t86.6\n",
    "Mar-2007\t85.8\t77.0\t98.6\t78.3\t96.4\t80.9\t89.5\t97.7\t98.8\t79.1\t87.5\t86.6\n",
    "Jun-2007\t87.3\t77.7\t100.0\t78.9\t97.8\t82.6\t92.3\t97.9\t98.4\t79.2\t88.3\t87.7\n",
    "Sep-2007\t89.0\t78.1\t100.3\t80.4\t95.5\t82.1\t91.7\t97.9\t99.7\t78.5\t90.1\t88.3\n",
    "Dec-2007\t88.9\t79.1\t100.5\t81.3\t96.3\t81.3\t93.9\t97.9\t100.6\t78.5\t92.0\t89.1\n",
    "Mar-2008\t90.8\t80.0\t98.1\t82.8\t95.6\t84.5\t95.7\t97.9\t100.2\t82.5\t93.5\t90.3\n",
    "Jun-2008\t90.7\t81.4\t101.0\t83.7\t97.2\t86.6\t98.6\t97.9\t100.0\t82.6\t97.0\t91.6\n",
    "Sep-2008\t92.0\t82.6\t100.3\t85.8\t96.4\t86.4\t99.6\t98.1\t101.3\t82.2\t98.7\t92.7\n",
    "Dec-2008\t93.9\t83.7\t100.7\t86.5\t96.7\t85.3\t92.7\t98.5\t101.9\t82.2\t98.4\t92.4\n",
    "Mar-2009\t96.0\t84.5\t100.2\t87.3\t97.5\t89.0\t91.3\t98.9\t100.7\t86.7\t92.2\t92.5\n",
    "Jun-2009\t95.1\t85.3\t102.3\t88.0\t99.6\t91.0\t92.8\t99.1\t100.7\t86.7\t90.7\t92.9\n",
    "Sep-2009\t94.3\t85.9\t102.6\t90.6\t100.2\t90.1\t94.6\t99.1\t101.4\t86.8\t91.5\t93.8\n",
    "Dec-2009\t95.7\t86.4\t102.8\t91.3\t100.2\t89.3\t93.8\t99.1\t102.9\t86.8\t92.2\t94.3\n",
    "Mar-2010\t96.7\t87.5\t98.4\t92.6\t98.9\t93.5\t95.0\t99.0\t101.9\t91.6\t94.1\t95.2\n",
    "Jun-2010\t96.4\t92.7\t98.4\t93.2\t99.8\t95.6\t95.7\t98.9\t100.1\t91.7\t94.2\t95.8\n",
    "Sep-2010\t95.9\t95.5\t99.7\t95.2\t100.6\t94.9\t95.1\t98.7\t100.8\t91.8\t94.7\t96.5\n",
    "Dec-2010\t98.0\t96.2\t97.9\t95.8\t100.0\t93.7\t95.4\t98.7\t101.0\t91.8\t94.3\t96.9\n",
    "Mar-2011\t100.9\t97.3\t97.2\t97.1\t98.4\t97.4\t97.9\t98.8\t100.4\t97.0\t96.7\t98.3\n",
    "Jun-2011\t102.3\t97.9\t99.5\t97.5\t99.8\t99.4\t99.1\t99.3\t99.8\t97.1\t98.2\t99.2\n",
    "Sep-2011\t102.0\t98.4\t101.0\t99.2\t100.1\t98.4\t99.2\t99.2\t100.7\t97.1\t98.9\t99.8\n",
    "Dec-2011\t100.5\t99.3\t100.4\t99.7\t100.2\t97.1\t99.2\t100.3\t101.5\t97.1\t99.6\t99.8\n",
    "Mar-2012\t98.4\t100.7\t98.6\t100.3\t99.1\t101.5\t100.3\t100.4\t99.5\t102.9\t100.5\t99.9\n",
    "Jun-2012\t99.0\t101.7\t100.0\t100.7\t100.6\t103.0\t101.3\t100.1\t98.3\t102.9\t101.0\t100.4\n",
    "Sep-2012\t100.9\t102.6\t100.2\t103.9\t101.6\t105.5\t100.5\t100.6\t99.2\t103.0\t101.2\t101.8\n",
    "Dec-2012\t100.8\t102.8\t101.0\t104.1\t101.0\t104.6\t101.2\t101.9\t99.8\t103.0\t102.7\t102.0\n",
    "Mar-2013\t100.0\t104.4\t97.1\t105.4\t99.7\t107.7\t101.7\t101.9\t99.0\t108.9\t103.4\t102.4\n",
    "Jun-2013\t100.1\t105.8\t99.7\t106.0\t100.7\t109.8\t100.8\t102.3\t98.2\t108.8\t103.7\t102.8\n",
    "Sep-2013\t100.3\t106.7\t100.8\t108.1\t101.7\t109.8\t103.2\t102.4\t100.1\t108.8\t104.1\t104.0\n",
    "Dec-2013\t101.9\t108.4\t99.7\t108.6\t102.1\t109.2\t103.1\t103.6\t102.2\t108.8\t104.3\t104.8\n",
    "Mar-2014\t102.2\t111.5\t97.6\t109.2\t100.6\t112.0\t104.2\t103.8\t101.7\t114.4\t104.7\t105.4\n",
    "Jun-2014\t102.6\t113.3\t99.1\t110.1\t101.7\t115.2\t103.5\t102.0\t101.4\t114.4\t104.7\t105.9\n",
    "Sep-2014\t103.8\t114.5\t98.1\t110.6\t102.1\t115.0\t103.4\t100.6\t102.0\t114.5\t105.3\t106.4\n",
    "Dec-2014\t103.9\t116.4\t98.2\t111.2\t102.6\t114.0\t101.1\t100.5\t103.0\t114.5\t106.4\t106.6\n",
    "Mar-2015\t104.1\t117.3\t96.9\t112.1\t102.1\t116.9\t97.7\t99.1\t103.7\t120.6\t106.6\t106.8\n",
    "Jun-2015\t103.9\t118.7\t98.2\t112.9\t103.1\t120.1\t101.0\t98.5\t102.3\t120.6\t106.9\t107.5\n",
    "Sep-2015\t104.0\t120.2\t97.1\t113.6\t103.9\t120.5\t101.1\t96.5\t103.1\t120.8\t107.4\t108.0\n",
    "Dec-2015\t104.3\t123.4\t98.7\t113.7\t104.5\t120.0\t99.7\t94.2\t104.8\t120.8\t108.3\t108.4\n",
    "Mar-2016\t104.1\t124.5\t96.1\t114.0\t104.1\t122.3\t97.2\t92.8\t103.8\t124.6\t109.0\t108.2\n",
    "Jun-2016\t103.8\t125.7\t98.0\t114.4\t104.7\t125.5\t98.2\t91.4\t103.1\t124.6\t109.5\t108.6\n",
    "Sep-2016\t105.6\t127.1\t98.3\t115.6\t105.9\t125.2\t97.7\t89.3\t103.7\t124.8\t110.5\t109.4\n",
    "Dec-2016\t106.2\t130.7\t97.8\t115.9\t105.1\t124.4\t99.4\t88.6\t104.3\t124.8\t111.2\t110.0\n",
    "Mar-2017\t106.0\t132.1\t96.4\t116.8\t104.0\t126.9\t100.9\t88.3\t103.6\t128.7\t111.9\t110.5\n",
    "Jun-2017\t105.8\t133.1\t96.1\t117.2\t104.7\t130.3\t100.3\t87.9\t103.0\t128.7\t111.8\t110.7\n",
    "Sep-2017\t104.9\t136.0\t95.2\t119.4\t105.1\t130.1\t100.3\t86.7\t104.3\t128.7\t112.5\t111.4\n",
    "Dec-2017\t106.0\t140.3\t94.9\t119.8\t104.3\t129.4\t102.7\t85.6\t104.9\t128.8\t112.7\t112.1\n",
    "\"\"\"\n",
    "\n",
    "import pandas as pd\n",
    "import StringIO\n",
    "df=pd.read_csv(StringIO.StringIO(data),delimiter='\\t')\n",
    "print df\n"
   ]
  },
  {
   "cell_type": "code",
   "execution_count": 6,
   "metadata": {
    "collapsed": true
   },
   "outputs": [
    {
     "ename": "NameError",
     "evalue": "name 'readfiles' is not defined",
     "traceback": [
      "\u001b[1;31m\u001b[0m",
      "\u001b[1;31mNameError\u001b[0mTraceback (most recent call last)",
      "\u001b[1;32m<ipython-input-6-2f38fc53db61>\u001b[0m in \u001b[0;36m<module>\u001b[1;34m()\u001b[0m\n\u001b[0;32m      2\u001b[0m \u001b[0mclear_output\u001b[0m\u001b[1;33m(\u001b[0m\u001b[0mwait\u001b[0m\u001b[1;33m=\u001b[0m\u001b[0mTrue\u001b[0m\u001b[1;33m)\u001b[0m\u001b[1;33m\u001b[0m\u001b[0m\n\u001b[0;32m      3\u001b[0m \u001b[1;33m\u001b[0m\u001b[0m\n\u001b[1;32m----> 4\u001b[1;33m \u001b[0mdf\u001b[0m\u001b[1;33m=\u001b[0m\u001b[0mreadfiles\u001b[0m\u001b[1;33m(\u001b[0m\u001b[1;33m)\u001b[0m\u001b[1;33m\u001b[0m\u001b[0m\n\u001b[0m\u001b[0;32m      5\u001b[0m \u001b[0mdf\u001b[0m\u001b[1;33m=\u001b[0m\u001b[0mdrawdf\u001b[0m\u001b[1;33m(\u001b[0m\u001b[0mdf\u001b[0m\u001b[1;33m,\u001b[0m\u001b[0mselfdraw\u001b[0m\u001b[1;33m=\u001b[0m\u001b[0mFalse\u001b[0m\u001b[1;33m)\u001b[0m\u001b[1;33m\u001b[0m\u001b[0m\n\u001b[0;32m      6\u001b[0m \u001b[1;33m\u001b[0m\u001b[0m\n",
      "\u001b[1;31mNameError\u001b[0m: name 'readfiles' is not defined"
     ],
     "output_type": "error"
    }
   ],
   "source": [
    "from IPython.display import clear_output\n",
    "clear_output(wait=True)\n",
    "\n",
    "df=readfiles()\n",
    "df=drawdf(df,selfdraw=False)\n",
    "\n",
    "df = cf.datagen.lines()\n",
    "\n",
    "py.iplot([{\n",
    "    'x': df.index,\n",
    "    'y': df[col],\n",
    "    'name': col\n",
    "}  for col in df.columns], filename='cufflinks/simple-line')\n"
   ]
  }
 ],
 "metadata": {
  "kernelspec": {
   "display_name": "Python 2",
   "language": "python",
   "name": "python2"
  },
  "language_info": {
   "codemirror_mode": {
    "name": "ipython",
    "version": 2
   },
   "file_extension": ".py",
   "mimetype": "text/x-python",
   "name": "python",
   "nbconvert_exporter": "python",
   "pygments_lexer": "ipython2",
   "version": "2.7.6"
  }
 },
 "nbformat": 4,
 "nbformat_minor": 0
}
