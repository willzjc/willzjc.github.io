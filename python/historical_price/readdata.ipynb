{
 "cells": [
  {
   "cell_type": "code",
   "execution_count": null,
   "metadata": {
    "collapsed": true
   },
   "outputs": [],
   "source": [
    "import pandas as pd\n",
    "import numpy as np\n",
    "\n",
    "import plotly\n",
    "import plotly.plotly as py\n",
    "import plotly.graph_objs as go\n",
    "import plotly.figure_factory as FF\n",
    "\n",
    "\n",
    "import matplotlib.pyplot as plt\n",
    "\n",
    "\n",
    "\n",
    "def drawdf(df):\n",
    "\n",
    "    df=df.replace('\\sUSD','',regex=True).apply(pd.to_numeric, errors='ignore')\n",
    "    df[u'Date']=pd.to_datetime(df[u'Date'])\n",
    "    df=df.set_index(pd.DatetimeIndex(df[u'Date']))\n",
    "\n",
    "    df = df.resample('M').mean()\n",
    "    print df\n",
    "    print df.columns\n",
    "    print df[u'Average Selling Price']\n",
    "    # df=df.groupby(pd.TimeGrouper('5Min')).sum()\n",
    "\n",
    "\n",
    "\n",
    "    # print df\n",
    "    sample_data_table = FF.create_table(df.head())\n",
    "    py.iplot(sample_data_table, filename='sample-data-table')\n",
    "\n",
    "    trace1 = go.Scatter(\n",
    "                        x=df.index.values, y=df[u'Total Sales'], # Data\n",
    "                        mode='lines', name='Total Sales' # Additional options\n",
    "                       )\n",
    "    trace2 = go.Scatter(x=df.index.values, y=df[u'Average Selling Price'], mode='lines', name='avg' )\n",
    "    trace3 = go.Scatter(x=df.index.values, y=df[u'Items Sold'], mode='lines', name='sold')\n",
    "\n",
    "    layout = go.Layout(title='Plot from csv data',\n",
    "                       plot_bgcolor='rgb(230, 230,230)')\n",
    "\n",
    "    fig = go.Figure(data=[trace2], layout=layout)\n",
    "\n",
    "    # Plot data in the notebook\n",
    "    py.iplot(fig, filename='simple-plot-from-csv')\n",
    "\n",
    "    df.plot(y='Average Selling Price',use_index=True)\n",
    "\n",
    "def main():\n",
    "    df = pd.read_csv('data_dogfood.csv')\n",
    "    drawdf(df)\n",
    "\n",
    "    df = pd.read_csv('data_milkpowder.csv')\n",
    "    drawdf(df)\n",
    "\n",
    "if __name__ == \"__main__\":\n",
    "    main()"
   ]
  }
 ],
 "metadata": {
  "kernelspec": {
   "display_name": "Python 2",
   "language": "python",
   "name": "python2"
  },
  "language_info": {
   "codemirror_mode": {
    "name": "ipython",
    "version": 2
   },
   "file_extension": ".py",
   "mimetype": "text/x-python",
   "name": "python",
   "nbconvert_exporter": "python",
   "pygments_lexer": "ipython2",
   "version": "2.7.6"
  }
 },
 "nbformat": 4,
 "nbformat_minor": 0
}
