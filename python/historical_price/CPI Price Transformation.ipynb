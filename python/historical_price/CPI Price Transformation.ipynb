{
 "cells": [
  {
   "cell_type": "markdown",
   "metadata": {},
   "source": [
    "## A concept for forecasting inflation with online listed item prices\n",
    "Can we use online prices as a predictor of a nation's inflation and CPI?\n",
    "\n",
    "Resources online indicates that not only is this possible, but it has been done the past decade by those who has the right tools - http://www.mit.edu/~afc/papers/Cavallo_Online_Offline.pdf\n",
    "\n",
    "While it isn't entirely surprising that online and offline prices are similar.\n",
    "finding the correct data points in an ever growing pool of resources is the challenge that this model attempts to answer.\n",
    "\n",
    "Technolgy used: Jupyter Notebook, plot.ly, Python, d3js, Javascript\n",
    "<br><br><i>\n",
    "    <b>Output</b> = df\n",
    "</i>"
   ]
  },
  {
   "cell_type": "code",
   "execution_count": null,
   "metadata": {},
   "outputs": [],
   "source": [
    "# Load Libraries for offline use\n",
    "# Edit 20180317-02\n",
    "import os                                           # Fundamental file management libraries\n",
    "\n",
    "import numpy as np                                  # Base Array library used by Pandas\n",
    "import pandas as pd                                 # Pandas Matrix library\n",
    "\n",
    "import scipy as sp                                  # Required as the baseline data science module\n",
    "\n",
    "\n",
    "try:\n",
    "    from StringIO import StringIO                   # Formulating a string as a filestream\n",
    "except ImportError:\n",
    "    from io import StringIO\n",
    "    \n",
    "import plotly.tools as tls                          # Auxiliary Tools\n",
    "\n",
    "from plotly.offline import download_plotlyjs, init_notebook_mode, iplot\n",
    "                                                    # plotly for offline use (i.e. no service fee)\n",
    "    \n",
    "from plotly.graph_objs import *                     # Different chart types\n",
    "init_notebook_mode()                                # Notebook \n",
    "\n",
    "import cufflinks as cf                              # Bridge from DataFrames to Plotly\n",
    "cf.go_offline()                                     # Required to use plotly offline (no account required).\n",
    "\n",
    "from sklearn import preprocessing                   # For natrix normalization\n",
    "\n",
    "# import seaborn as sns                             # For gradient color scales\n",
    "\n",
    "from IPython.display import display, HTML           # Formatting for Dataframes\n",
    "\n",
    "import qgrid\n"
   ]
  },
  {
   "cell_type": "code",
   "execution_count": null,
   "metadata": {},
   "outputs": [],
   "source": [
    "# Developed modules\n",
    "import cpi_aux\n",
    "from cpi_aux import *\n",
    "\n",
    "try:\n",
    "    reload (cpi_aux)\n",
    "except Exception as e:\n",
    "    print e"
   ]
  },
  {
   "cell_type": "markdown",
   "metadata": {},
   "source": [
    "### Firstly setting variables to affect output of model\n",
    "(Time shift adjustment, CPI shown, percentile to filter)"
   ]
  },
  {
   "cell_type": "code",
   "execution_count": null,
   "metadata": {},
   "outputs": [],
   "source": [
    "# Variables and Formatting definition\n",
    "\n",
    "START_OFFSET=-160\n",
    "END_OFFSET=0\n",
    "\n",
    "cpi_metric='CPI'\n",
    "cpi_metric='diff'\n",
    "\n",
    "percentile=1\n",
    "\n",
    "# Variables\n",
    "\n",
    "global metrics , items , pricecolumns , salescolumns , weighcolumns\n",
    "\n",
    "metrics = None\n",
    "items = None\n",
    "pricecolumns = None\n",
    "salescolumns = None\n",
    "weighcolumns = None\n",
    "\n",
    "### Formatting \n",
    "# pd.options.display.float_format = '{:,.2f}'.format"
   ]
  },
  {
   "cell_type": "markdown",
   "metadata": {},
   "source": [
    "#### Prime data from files, establish fundamental variables"
   ]
  },
  {
   "cell_type": "code",
   "execution_count": null,
   "metadata": {
    "scrolled": false
   },
   "outputs": [],
   "source": [
    "# reload(cpi_aux)\n",
    "\n",
    "import cpi_aux\n",
    "from cpi_aux import *\n",
    "\n",
    "try:\n",
    "    reload (cpi_aux)\n",
    "except Exception as e:\n",
    "    print e\n",
    "\n",
    "path='ref/categories/Food - Chocolate'\n",
    "category=path.split('/')[-1]\n",
    "price_df=getProducts(path)\n",
    "cpi_df,cpi_category=getCPI(path)\n",
    "df=price_df.copy()\n",
    "\n",
    "categorical_df,total_df = getSummary(df)\n",
    "display(categorical_df)\n",
    "display(total_df)\n",
    "\n",
    "\n",
    "weighcolumns = list(filter(lambda x: keyword in x, df.columns.values) for keyword in ['weigh'])[0]\n",
    "salescolumns = list(filter(lambda x: keyword in x, df.columns.values) for keyword in ['sales'])[0]\n",
    "\n",
    "# As price columns don't have a 'price' in the column name\n",
    "# need to find all column names which don't have the other two groups of column names\n",
    "pricecolumns = reduce(lambda x,y : filter(lambda z: z!=y,x) ,['date']+weighcolumns+salescolumns, df.columns.values)\n",
    "\n",
    "\n",
    "# print salescolumns\n",
    "# print pricecolumns\n",
    "# print list(filter(lambda x: x not in keyword , ['date','sales','weigh']) for keyword in df.columns.values )\n",
    "\n",
    "# print salescolumns\n",
    "### Interactive frames\n",
    "# qw=qgrid.show_grid(total_df,show_toolbar=True)\n",
    "# qw\n",
    "# total_df.total = total_df.total.astype(float)\n"
   ]
  },
  {
   "cell_type": "markdown",
   "metadata": {},
   "source": [
    "# First Plot - Seeing the data first hand\n",
    "No changing or modification of data yet"
   ]
  },
  {
   "cell_type": "code",
   "execution_count": null,
   "metadata": {},
   "outputs": [],
   "source": [
    "frequency='M'\n",
    "\n",
    "# Show Price (interlolated to 1M)\n",
    "title='<b>Average Price ($)</b><br>Outliers not filtered<br>Interpolated and bucketing interval set to: <i>%s</i>'%(frequency)\n",
    "interpolateDF(df,columns=pricecolumns,frequency=frequency).iplot(title=title)\n",
    "\n",
    "# Show Units Sold (interlolated to 1M)\n",
    "title=\"<b>Units Sold</b><br>Outliers not filtered\"\n",
    "interpolateDF(df,columns=weighcolumns,frequency=frequency).iplot(title=title)\n",
    "\n",
    "# Show Sales Revenue (interlolated to 1M)\n",
    "title=\"<b>Sales revenue of items ($)</b><br>Outliers not filtered\"\n",
    "interpolateDF(df,columns=salescolumns,frequency=frequency).iplot(title=title)"
   ]
  },
  {
   "cell_type": "markdown",
   "metadata": {},
   "source": [
    "## CPI stats\n",
    "Sourced from rba.gov.au\n",
    "<br>Data available with quarterly updates\n",
    "<br>File format in csv and is the basis used our model's benchmark and reference"
   ]
  },
  {
   "cell_type": "code",
   "execution_count": null,
   "metadata": {},
   "outputs": [],
   "source": [
    "# Take copy of original\n",
    "cpi=cpi_df.copy()\n",
    "\n",
    "cpi=enrichCPI(cpi)\n",
    "# Plotting\n",
    "title='<b>CPI - %s</b><br>Obtain CPI for the next step, including each point\\'s derivative'%(decorateText(cpi_category))\n",
    "iplot(plotdouble(cpi,'diff','CPI',title=title))\n"
   ]
  },
  {
   "cell_type": "markdown",
   "metadata": {},
   "source": [
    "##### Price vs Units Sold vs Revenue"
   ]
  },
  {
   "cell_type": "code",
   "execution_count": null,
   "metadata": {
    "scrolled": false
   },
   "outputs": [],
   "source": [
    "# Either use prices or normalized prices\n",
    "prices=df.set_index(pd.DatetimeIndex(df['date'])).drop(columns=['date'])\n",
    "normalized_prices=normalizeDF(df)\n",
    "ndf=normalized_prices.copy()\n",
    "\n",
    "n2df = get_mean_weighted_rating(ndf, df)\n",
    "ndf['mean'] = n2df['weighted_mean']\n",
    "\n",
    "graph_ndf=ndf.copy()\n",
    "display(graph_ndf.head(2))\n",
    "\n",
    "#Show chart of Prices\n",
    "interpolateDF(graph_ndf,pricecolumns + ['mean'],frequency='M').iplot(\n",
    "    title='<b>Price - ('+str(int(percentile*100))+ '%)</b><br>Interpolated and bucketing interval set to 1 month')\n",
    "\n",
    "#Show chart of Items Sold\n",
    "graph_ndf['total_units']=graph_ndf[weighcolumns].sum(axis=1)\n",
    "interpolateDF(graph_ndf,weighcolumns+['total_units']).iplot(\n",
    "    title='<b>Items Sold</b><br>Interpolated and bucketing interval set to 1 month')\n",
    "\n",
    "#Show chart of Total Revenue\n",
    "graph_ndf['total_revenue']=graph_ndf[salescolumns].sum(axis=1)\n",
    "interpolateDF(graph_ndf,salescolumns + ['total_revenue']).iplot(\n",
    "    title='<b>Revenue - Outliters Filtered</b><br>Interpolated and bucketing interval set to 1 month')"
   ]
  },
  {
   "cell_type": "code",
   "execution_count": null,
   "metadata": {},
   "outputs": [],
   "source": [
    "frequency_u_vs_r='14D'\n",
    "u_vs_r=normalizeDF(graph_ndf[['total_units','total_revenue','mean']])\n",
    "u_vs_r=interpolateDF(u_vs_r,frequency=frequency_u_vs_r)\n",
    "u_vs_r.iplot(title='<b>Price vs Total Sold vs Revenue</b><br>Interval: %s'%(frequency_u_vs_r))\n",
    "\n",
    "# print ndf.columns"
   ]
  },
  {
   "cell_type": "code",
   "execution_count": null,
   "metadata": {
    "scrolled": false
   },
   "outputs": [],
   "source": [
    "input_cpi=cpi.copy()\n",
    "freq='3M'\n",
    "\n",
    "cpi_vs_price = plotCompareCPIMetrics(graph_ndf,input_cpi,cpi_metric='CPI',frequency=freq,cpi_category=cpi_category)\n",
    "\n",
    "cpidelta_vs_price = plotCompareCPIMetrics(graph_ndf,input_cpi,cpi_metric='diff',frequency=freq,cpi_category=cpi_category)\n",
    "\n",
    "cpidelta_vs_revenue = plotCompareCPIMetrics(graph_ndf,input_cpi,cpi_metric='diff',price_metric='total_revenue',frequency=freq,cpi_category=cpi_category)\n",
    "\n",
    "cpi_vs_revenue = plotCompareCPIMetrics(graph_ndf,input_cpi,cpi_metric='CPI',price_metric='total_revenue',frequency=freq,cpi_category=cpi_category)"
   ]
  },
  {
   "cell_type": "code",
   "execution_count": null,
   "metadata": {},
   "outputs": [],
   "source": []
  },
  {
   "cell_type": "code",
   "execution_count": null,
   "metadata": {},
   "outputs": [],
   "source": [
    "# import cpi_aux\n",
    "reload(cpi_aux)\n",
    "# from cpi_aux import *\n",
    "from cpi_aux import getExcelDf,getCPI,getProducts,enrichVariables,getSummary,interpolateDF,plotdouble,normalizeDF,decorateText,getMetricColumns,get_mean_weighted_rating,compareCPIMetrics,plotCompareCPIMetrics,filter_percentile,plot_final,enrichCPI"
   ]
  },
  {
   "cell_type": "code",
   "execution_count": null,
   "metadata": {},
   "outputs": [],
   "source": [
    "# import cpi_aux\n",
    "reload(cpi_aux)\n",
    "# from cpi_aux import *\n",
    "from cpi_aux import plot_final, enrichCPI\n",
    "plot_final(icpi=cpi,normalized_prices=ndf,show_corr=False, show_offset=False,category=category)"
   ]
  }
 ],
 "metadata": {
  "kernelspec": {
   "display_name": "Python 2",
   "language": "python",
   "name": "python2"
  },
  "language_info": {
   "codemirror_mode": {
    "name": "ipython",
    "version": 2
   },
   "file_extension": ".py",
   "mimetype": "text/x-python",
   "name": "python",
   "nbconvert_exporter": "python",
   "pygments_lexer": "ipython2",
   "version": "2.7.14"
  }
 },
 "nbformat": 4,
 "nbformat_minor": 2
}
