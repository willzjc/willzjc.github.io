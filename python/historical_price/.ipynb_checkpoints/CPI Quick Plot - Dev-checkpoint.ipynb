{
 "cells": [
  {
   "cell_type": "markdown",
   "metadata": {},
   "source": [
    "## A concept for forecasting inflation with online listed item prices\n",
    "Can we use online prices as a predictor of a nation's inflation and CPI?\n",
    "\n",
    "Resources online indicates that not only is this possible, but it has been done the past decade by those who has the right tools - http://www.mit.edu/~afc/papers/Cavallo_Online_Offline.pdf\n",
    "\n",
    "While it isn't entirely surprising that online and offline prices are similar.\n",
    "finding the correct data points in an ever growing pool of resources is the challenge that this model attempts to answer.\n",
    "\n",
    "Technolgy used: Jupyter Notebook, plot.ly, Python, d3js, Javascript\n",
    "<br><br><i>\n",
    "    <b>Output</b> = df\n",
    "</i>"
   ]
  },
  {
   "cell_type": "code",
   "execution_count": null,
   "metadata": {},
   "outputs": [],
   "source": [
    "# Load Libraries for offline use\n",
    "# Edit 20180317-02\n",
    "import os                                           # Fundamental file management libraries\n",
    "\n",
    "import numpy as np                                  # Base Array library used by Pandas\n",
    "import pandas as pd                                 # Pandas Matrix library\n",
    "\n",
    "import scipy as sp                                  # Required as the baseline data science module\n",
    "\n",
    "\n",
    "try:\n",
    "    from StringIO import StringIO                   # Formulating a string as a filestream\n",
    "except ImportError:\n",
    "    from io import StringIO\n",
    "    \n",
    "import plotly.tools as tls                          # Auxiliary Tools\n",
    "\n",
    "from plotly.offline import download_plotlyjs, init_notebook_mode, iplot\n",
    "                                                    # plotly for offline use (i.e. no service fee)\n",
    "    \n",
    "from plotly.graph_objs import *                     # Different chart types\n",
    "init_notebook_mode()                                # Notebook \n",
    "\n",
    "import cufflinks as cf                              # Bridge from DataFrames to Plotly\n",
    "cf.go_offline()                                     # Required to use plotly offline (no account required).\n",
    "\n",
    "from sklearn import preprocessing                   # For natrix normalization\n",
    "\n",
    "# import seaborn as sns                             # For gradient color scales\n",
    "\n",
    "from IPython.display import display, HTML           # Formatting for Dataframes\n",
    "\n",
    "import qgrid\n"
   ]
  },
  {
   "cell_type": "code",
   "execution_count": null,
   "metadata": {},
   "outputs": [],
   "source": [
    "# Developed modules\n",
    "import cpi_aux\n",
    "from cpi_aux import *\n",
    "\n",
    "try:\n",
    "    reload (cpi_aux)\n",
    "except Exception as e:\n",
    "    print e"
   ]
  },
  {
   "cell_type": "markdown",
   "metadata": {},
   "source": [
    "#### Quick Plot version"
   ]
  },
  {
   "cell_type": "code",
   "execution_count": null,
   "metadata": {
    "scrolled": false
   },
   "outputs": [],
   "source": [
    "category='Food - Tea'\n",
    "category='Alcohol'\n",
    "category='Furnitures'\n",
    "category='Tools for House and Garden'\n",
    "quickPlotCPIvPrice('ref/categories/'+category)"
   ]
  }
 ],
 "metadata": {
  "kernelspec": {
   "display_name": "Python 2",
   "language": "python",
   "name": "python2"
  },
  "language_info": {
   "codemirror_mode": {
    "name": "ipython",
    "version": 2
   },
   "file_extension": ".py",
   "mimetype": "text/x-python",
   "name": "python",
   "nbconvert_exporter": "python",
   "pygments_lexer": "ipython2",
   "version": "2.7.14"
  }
 },
 "nbformat": 4,
 "nbformat_minor": 2
}
