{
 "cells": [
  {
   "cell_type": "markdown",
   "metadata": {},
   "source": [
    "## A concept for forecasting inflation with online listed item prices\n",
    "Can we use online prices as a predictor of a nation's inflation and CPI?\n",
    "\n",
    "Resources online indicates that not only is this possible, but it has been done the past decade by those who has the right tools - http://www.mit.edu/~afc/papers/Cavallo_Online_Offline.pdf\n",
    "\n",
    "While it isn't entirely surprising that online and offline prices are similar.\n",
    "finding the correct data points in an ever growing pool of resources is the challenge that this model attempts to answer.\n",
    "\n",
    "Technolgy used: Jupyter Notebook, plot.ly, Python, d3js, Javascript\n",
    "<br><br><i>\n",
    "    <b>Output</b> = df\n",
    "</i>"
   ]
  },
  {
   "cell_type": "code",
   "execution_count": null,
   "metadata": {},
   "outputs": [],
   "source": [
    "# Developed modules\n",
    "try:\n",
    "    import cpi_aux\n",
    "    reload (cpi_aux)\n",
    "except Exception as e: print e\n",
    "    \n",
    "from cpi_aux import *"
   ]
  },
  {
   "cell_type": "markdown",
   "metadata": {},
   "source": [
    "### Firstly setting variables to affect output of model\n",
    "(Time shift adjustment, CPI shown, percentile to filter)"
   ]
  },
  {
   "cell_type": "code",
   "execution_count": null,
   "metadata": {},
   "outputs": [],
   "source": [
    "# Variables and Formatting definition\n",
    "\n",
    "START_OFFSET=-160\n",
    "END_OFFSET=0\n",
    "\n",
    "cpi_metric='CPI'\n",
    "cpi_metric='diff'\n",
    "\n",
    "percentile=1\n",
    "\n",
    "# Variables\n",
    "\n",
    "global metrics , items , pricecolumns , salescolumns , weighcolumns\n",
    "\n",
    "\n",
    "### Formatting \n",
    "# pd.options.display.float_format = '{:,.2f}'.format"
   ]
  },
  {
   "cell_type": "code",
   "execution_count": null,
   "metadata": {},
   "outputs": [],
   "source": [
    "# widgets.Dropdown(options=)\n",
    "options={}\n",
    "categorical_path='ref/categories/'\n",
    "categories = [sub for sub in os.listdir(categorical_path) if os.path.isdir(categorical_path+'/'+sub) \n",
    " and not any(xs in sub for xs in ['ipynb_checkpoints', 'Misc Items'])]\n",
    "\n",
    "random_cat=True\n",
    "for i,c in enumerate(categories):\n",
    "    options[c]=i\n",
    "    \n",
    "#select a random category\n",
    "selected=None\n",
    "if selected==None or random_cat:\n",
    "    selected=categories[random.randint(a=0,b=(len(categories)-1))]\n",
    "category=widgets.Dropdown(options=categories,description='Category',\n",
    "   layout=Layout(width='40%'),value=selected)\n",
    "\n",
    "# category.layout.max_width='400'\n",
    "display(category)\n",
    "category.value='Footwear - Men'"
   ]
  },
  {
   "cell_type": "markdown",
   "metadata": {},
   "source": [
    "#### Prime data from files, establish fundamental variables"
   ]
  },
  {
   "cell_type": "code",
   "execution_count": null,
   "metadata": {},
   "outputs": [],
   "source": [
    "# reload(cpi_aux)\n",
    "\n",
    "\n",
    "basepath='ref/categories/Food - Tea/'\n",
    "basepath='ref/categories/%s/'%(category.value)\n",
    "price_df=getProducts(basepath)\n",
    "cpi_df,cpi_category=getCPI(basepath)\n",
    "df=price_df.copy()\n",
    "\n",
    "categorical_df,total_df = getSummary(df)\n",
    "display(categorical_df)\n",
    "display(total_df)\n",
    "\n",
    "# pricecolumns , salescolumns , weighcolumns = getMetricColumns(df=df)\n",
    "\n",
    "weighcolumns = list(filter(lambda x: keyword in x, df.columns.values) for keyword in ['weigh'])[0]\n",
    "salescolumns = list(filter(lambda x: keyword in x, df.columns.values) for keyword in ['sales'])[0]\n",
    "\n",
    "# As price columns don't have a 'price' in the column name\n",
    "pricecolumns = reduce(lambda x,y : # need to find all column names which don't have the other two groups of column names\n",
    " filter(lambda z: z!=y,x) ,['date']+weighcolumns+salescolumns, df.columns.values)\n",
    "\n",
    "\n",
    "# print salescolumns\n",
    "# print pricecolumns\n",
    "# print list(filter(lambda x: x not in keyword , ['date','sales','weigh']) for keyword in df.columns.values )\n",
    "\n",
    "# print salescolumns\n",
    "### Interactive frames\n",
    "# qw=qgrid.show_grid(total_df,show_toolbar=True)\n",
    "# qw\n",
    "# total_df.total = total_df.total.astype(float)\n"
   ]
  },
  {
   "cell_type": "markdown",
   "metadata": {},
   "source": [
    "# First Plot - Seeing the data first hand\n",
    "No changing or modification of data yet"
   ]
  },
  {
   "cell_type": "code",
   "execution_count": null,
   "metadata": {},
   "outputs": [],
   "source": [
    "frequency='M'\n",
    "\n",
    "# Show Price (interlolated to 1M)\n",
    "title='<b>Average Price ($)</b><br>Outliers not filtered<br>Interpolated and bucketing interval set to: <i>%s</i>'%(frequency)\n",
    "interpolateDF(df,columns=pricecolumns,frequency=frequency).iplot(title=title)\n",
    "\n",
    "# Show Units Sold (interlolated to 1M)\n",
    "title=\"<b>Units Sold</b><br>Outliers not filtered\"\n",
    "interpolateDF(df,columns=weighcolumns,frequency=frequency).iplot(title=title)\n",
    "\n",
    "# Show Sales Revenue (interlolated to 1M)\n",
    "title=\"<b>Sales revenue of items ($)</b><br>Outliers not filtered\"\n",
    "interpolateDF(df,columns=salescolumns,frequency=frequency).iplot(title=title)"
   ]
  },
  {
   "cell_type": "markdown",
   "metadata": {},
   "source": [
    "## CPI stats\n",
    "Sourced from rba.gov.au\n",
    "<br>Data available with quarterly updates\n",
    "<br>File format in csv and is the basis used our model's benchmark and reference"
   ]
  },
  {
   "cell_type": "code",
   "execution_count": null,
   "metadata": {},
   "outputs": [],
   "source": [
    "# Take copy of original\n",
    "cpi=cpi_df.copy()\n",
    "\n",
    "cpi=enrichCPI(cpi)\n",
    "# Plotting\n",
    "title='<b>CPI - %s</b><br>Obtain CPI for the next step, including each point\\'s derivative'%(decorateText(cpi_category))\n",
    "iplot(plotdouble(cpi,'diff','CPI',title=title))\n"
   ]
  },
  {
   "cell_type": "markdown",
   "metadata": {},
   "source": [
    "##### Price vs Units Sold vs Revenue"
   ]
  },
  {
   "cell_type": "code",
   "execution_count": null,
   "metadata": {
    "scrolled": false
   },
   "outputs": [],
   "source": [
    "# Either use prices or normalized prices\n",
    "prices=df.set_index(pd.DatetimeIndex(df['date'])).drop(columns=['date'])\n",
    "normalized_prices=normalizeDF(df)\n",
    "ndf=normalized_prices.copy()\n",
    "\n",
    "n2df = get_mean_weighted_rating(ndf, df)\n",
    "ndf['mean'] = n2df['weighted_mean']\n",
    "\n",
    "graph_ndf=ndf.copy()\n",
    "display(graph_ndf.head(2))\n",
    "\n",
    "#Show chart of Prices\n",
    "interpolateDF(graph_ndf,pricecolumns + ['mean'],frequency='M').iplot(\n",
    "    title='<b>Price - ('+str(int(percentile*100))+ '%)</b><br>Interpolated and bucketing interval set to 1 month')\n",
    "\n",
    "#Show chart of Items Sold\n",
    "graph_ndf['total_units']=graph_ndf[weighcolumns].sum(axis=1)\n",
    "interpolateDF(graph_ndf,weighcolumns+['total_units']).iplot(\n",
    "    title='<b>Items Sold</b><br>Interpolated and bucketing interval set to 1 month')\n",
    "\n",
    "#Show chart of Total Revenue\n",
    "graph_ndf['total_revenue']=graph_ndf[salescolumns].sum(axis=1)\n",
    "interpolateDF(graph_ndf,salescolumns + ['total_revenue']).iplot(\n",
    "    title='<b>Revenue - Outliters Filtered</b><br>Interpolated and bucketing interval set to 1 month')"
   ]
  },
  {
   "cell_type": "code",
   "execution_count": null,
   "metadata": {},
   "outputs": [],
   "source": [
    "frequency_u_vs_r='14D'\n",
    "rolling_freq='90D'\n",
    "u_vs_r=normalizeDF(graph_ndf[['total_units','total_revenue','mean']])\n",
    "u_vs_r[('Rolling Avg %s'%(rolling_freq))]=u_vs_r['mean'].rolling(rolling_freq).mean()\n",
    "u_vs_r=interpolateDF(u_vs_r,frequency=frequency_u_vs_r)\n",
    "u_vs_r=u_vs_r.rename(columns={\n",
    "    'mean' : 'Weighted Mean Price','total_units':'Sold Units','total_revenue':'Revenue'})\n",
    "u_vs_r.iplot(title='<b>Price vs Total Sold vs Revenue</b><br>Interval: %s'%(frequency_u_vs_r))\n",
    "\n",
    "# print ndf.columns"
   ]
  },
  {
   "cell_type": "code",
   "execution_count": null,
   "metadata": {
    "scrolled": false
   },
   "outputs": [],
   "source": [
    "input_cpi=cpi.copy()\n",
    "grap_ndf=normalizeDF(price_df.copy())\n",
    "graph_ndf=get_mean_weighted_rating(normalized_df_input=ndf,original_df_input=price_df.copy())\n",
    "\n",
    "interpolate_graph=False\n",
    "graph_frequency='14D'\n",
    "graph_frequency='90D'\n",
    "rolling_freq='90D'\n",
    "# graph_ndf[['total_revenue_rolling']] = graph_ndf[['total_revenue']].rolling(graph_frequency).mean()\n",
    "\n",
    "cpi_vs_price = plotCompareCPIMetrics(graph_ndf,input_cpi,cpi_metric='CPI',\n",
    " frequency=graph_frequency,cpi_category=cpi_category,getRollingMean=True,interpolate=interpolate_graph,rolling_freq=rolling_freq)\n",
    "\n",
    "cpidelta_vs_price = plotCompareCPIMetrics(graph_ndf,input_cpi,cpi_metric='diff',\n",
    " frequency=graph_frequency,cpi_category=cpi_category,getRollingMean=True,interpolate=interpolate_graph,rolling_freq=rolling_freq)\n",
    "\n",
    "cpidelta_vs_total_revenue = plotCompareCPIMetrics(graph_ndf,input_cpi,cpi_metric='diff'\n",
    " ,price_metric='total_revenue',frequency=graph_frequency,cpi_category=cpi_category,getRollingMean=True,interpolate=interpolate_graph,rolling_freq=rolling_freq)\n",
    "\n",
    "cpi_vs_total_revenue = plotCompareCPIMetrics(graph_ndf,input_cpi,cpi_metric='CPI',price_metric='total_revenue'\n",
    " ,frequency=graph_frequency,cpi_category=cpi_category,getRollingMean=True,interpolate=interpolate_graph,rolling_freq=rolling_freq)"
   ]
  },
  {
   "cell_type": "code",
   "execution_count": null,
   "metadata": {},
   "outputs": [],
   "source": [
    "print cpi_category"
   ]
  },
  {
   "cell_type": "code",
   "execution_count": null,
   "metadata": {},
   "outputs": [],
   "source": [
    "# import cpi_aux\n",
    "reload(cpi_aux)\n",
    "# from cpi_aux import *\n",
    "from cpi_aux import plot_final, enrichCPI"
   ]
  },
  {
   "cell_type": "code",
   "execution_count": null,
   "metadata": {},
   "outputs": [],
   "source": [
    "# import cpi_aux\n",
    "reload(cpi_aux)\n",
    "# from cpi_aux import *\n",
    "from cpi_aux import plot_final, enrichCPI\n",
    "plot_final(icpi=cpi,normalized_prices=interpolateDF(ndf,frequency='M'),show_corr=False, show_offset=False)"
   ]
  }
 ],
 "metadata": {
  "kernelspec": {
   "display_name": "Python 2",
   "language": "python",
   "name": "python2"
  },
  "language_info": {
   "codemirror_mode": {
    "name": "ipython",
    "version": 2
   },
   "file_extension": ".py",
   "mimetype": "text/x-python",
   "name": "python",
   "nbconvert_exporter": "python",
   "pygments_lexer": "ipython2",
   "version": "2.7.14"
  }
 },
 "nbformat": 4,
 "nbformat_minor": 2
}
