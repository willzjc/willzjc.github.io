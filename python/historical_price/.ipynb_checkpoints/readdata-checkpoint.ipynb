{
 "cells": [
  {
   "cell_type": "code",
   "execution_count": 1,
   "metadata": {
    "collapsed": false
   },
   "outputs": [
    {
     "name": "stdout",
     "output_type": "stream",
     "text": [
      "            Items Sold  Average Selling Price  Total Sales\n",
      "Date                                                      \n",
      "2017-02-28   20.375000              42.058750   848.419375\n",
      "2017-03-31   14.322581              35.437419   506.896774\n",
      "2017-04-30   15.766667              34.639667   534.360333\n",
      "2017-05-31   92.096774              34.679355   682.400323\n",
      "2017-06-30   20.366667              36.070667   725.914333\n",
      "2017-07-31   18.064516              35.540968   647.104194\n",
      "2017-08-31   15.935484              37.979677   578.948710\n",
      "2017-09-30   17.533333              38.060667   670.249333\n",
      "2017-10-31   15.677419              33.627419   531.871613\n",
      "2017-11-30   15.733333              34.691333   537.293667\n",
      "2017-12-31   12.709677              39.319355   483.974194\n",
      "2018-01-31   12.451613              32.770323   401.663548\n",
      "2018-02-28   13.153846              27.575385   354.627692\n",
      "Index([u'Items Sold', u'Average Selling Price', u'Total Sales'], dtype='object')\n",
      "Date\n",
      "2017-02-28    42.058750\n",
      "2017-03-31    35.437419\n",
      "2017-04-30    34.639667\n",
      "2017-05-31    34.679355\n",
      "2017-06-30    36.070667\n",
      "2017-07-31    35.540968\n",
      "2017-08-31    37.979677\n",
      "2017-09-30    38.060667\n",
      "2017-10-31    33.627419\n",
      "2017-11-30    34.691333\n",
      "2017-12-31    39.319355\n",
      "2018-01-31    32.770323\n",
      "2018-02-28    27.575385\n",
      "Freq: M, Name: Average Selling Price, dtype: float64\n"
     ]
    },
    {
     "data": {
      "text/plain": [
       "<matplotlib.axes._subplots.AxesSubplot at 0x13ed3c30>"
      ]
     },
     "execution_count": 1,
     "metadata": {},
     "output_type": "execute_result"
    }
   ],
   "source": [
    "import pandas as pd\n",
    "import numpy as np\n",
    "\n",
    "import plotly\n",
    "import plotly.plotly as py\n",
    "import plotly.graph_objs as go\n",
    "import plotly.figure_factory as FF\n",
    "\n",
    "\n",
    "import matplotlib.pyplot as plt\n",
    "\n",
    "df=pd.read_csv('data.csv')\n",
    "# print df.replace([' USD'],[''])\n",
    "df=df.replace('\\sUSD','',regex=True).apply(pd.to_numeric, errors='ignore')\n",
    "\n",
    "df[u'Date']=pd.to_datetime(df[u'Date'])\n",
    "df=df.set_index(pd.DatetimeIndex(df[u'Date']))\n",
    "\n",
    "df = df.resample('M').mean()\n",
    "print df\n",
    "print df.columns\n",
    "print df[u'Average Selling Price']\n",
    "# df=df.groupby(pd.TimeGrouper('5Min')).sum()\n",
    "\n",
    "\n",
    "\n",
    "# print df\n",
    "sample_data_table = FF.create_table(df.head())\n",
    "py.iplot(sample_data_table, filename='sample-data-table')\n",
    "\n",
    "trace1 = go.Scatter(\n",
    "                    x=df.index.values, y=df[u'Total Sales'], # Data\n",
    "                    mode='lines', name='Total Sales' # Additional options\n",
    "                   )\n",
    "trace2 = go.Scatter(x=df.index.values, y=df[u'Average Selling Price'], mode='lines', name='avg' )\n",
    "trace3 = go.Scatter(x=df.index.values, y=df[u'Items Sold'], mode='lines', name='sold')\n",
    "\n",
    "layout = go.Layout(title='Plot from csv data',\n",
    "                   plot_bgcolor='rgb(230, 230,230)')\n",
    "\n",
    "fig = go.Figure(data=[trace1, trace2, trace3], layout=layout)\n",
    "\n",
    "# Plot data in the notebook\n",
    "py.iplot(fig, filename='simple-plot-from-csv')\n",
    "\n",
    "df.plot(y='Average Selling Price',use_index=True)"
   ]
  },
  {
   "cell_type": "code",
   "execution_count": null,
   "metadata": {},
   "outputs": [],
   "source": []
  }
 ],
 "metadata": {
  "kernelspec": {
   "display_name": "Python 2",
   "language": "python",
   "name": "python2"
  },
  "language_info": {
   "codemirror_mode": {
    "name": "ipython",
    "version": 2
   },
   "file_extension": ".py",
   "mimetype": "text/x-python",
   "name": "python",
   "nbconvert_exporter": "python",
   "pygments_lexer": "ipython2",
   "version": "2.7.14"
  }
 },
 "nbformat": 4,
 "nbformat_minor": 1
}
