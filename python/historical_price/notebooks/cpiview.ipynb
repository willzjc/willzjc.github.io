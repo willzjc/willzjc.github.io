{
 "cells": [
  {
   "cell_type": "code",
   "execution_count": null,
   "metadata": {
    "collapsed": true
   },
   "outputs": [],
   "source": [
    "# Load Libraries for offline use\n",
    "\n",
    "import os  # Fundamental file management libraries\n",
    "\n",
    "import numpy as np  # Base Array library used by Pandas\n",
    "import pandas as pd  # Pandas Matrix library\n",
    "\n",
    "import scipy as sp  # Required as the baseline data science module\n",
    "\n",
    "from StringIO import StringIO  # Formulating a string as a filestream\n",
    "\n",
    "import plotly.tools as tls  # Auxiliary Tools\n",
    "\n",
    "from plotly.offline import download_plotlyjs, init_notebook_mode, iplot\n",
    "# plotly for offline use (i.e. no service fee)\n",
    "\n",
    "from plotly.graph_objs import *  # Different chart types\n",
    "\n",
    "init_notebook_mode()  # Notebook\n",
    "\n",
    "import cufflinks as cf  # Bridge from DataFrames to Plotly\n",
    "\n",
    "cf.go_offline()  # Required to use plotly offline (no account required).\n",
    "\n",
    "from sklearn import preprocessing  # For natrix normalization\n",
    "\n",
    "df=pd.read_csv('../ref/allcpi')\n",
    "\n",
    "df['date']=pd.to_datetime(df['date'])\n",
    "df.set_index(['date'])\n",
    "print df.columns\n",
    "# df.set_index()"
   ]
  },
  {
   "cell_type": "code",
   "execution_count": null,
   "metadata": {},
   "outputs": [],
   "source": [
    "print df\n",
    "df.iplot()"
   ]
  }
 ],
 "metadata": {
  "kernelspec": {
   "display_name": "Python 2",
   "language": "python",
   "name": "python2"
  },
  "language_info": {
   "codemirror_mode": {
    "name": "ipython",
    "version": 2
   },
   "file_extension": ".py",
   "mimetype": "text/x-python",
   "name": "python",
   "nbconvert_exporter": "python",
   "pygments_lexer": "ipython2",
   "version": "2.7.6"
  }
 },
 "nbformat": 4,
 "nbformat_minor": 0
}
